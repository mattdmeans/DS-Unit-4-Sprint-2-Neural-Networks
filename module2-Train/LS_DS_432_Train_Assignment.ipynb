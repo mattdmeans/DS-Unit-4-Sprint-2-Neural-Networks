{
 "cells": [
  {
   "cell_type": "markdown",
   "metadata": {
    "colab_type": "text",
    "id": "NGGrt9EYlCqY"
   },
   "source": [
    "<img align=\"left\" src=\"https://lever-client-logos.s3.amazonaws.com/864372b1-534c-480e-acd5-9711f850815c-1524247202159.png\" width=200>\n",
    "<br></br>\n",
    "<br></br>\n",
    "\n",
    "# Train Practice\n",
    "\n",
    "## *Data Science Unit 4 Sprint 2 Assignment 2*\n",
    "\n",
    "Continue to use TensorFlow Keras & a sample of the [Quickdraw dataset](https://github.com/googlecreativelab/quickdraw-dataset) to build a sketch classification model. The dataset has been sampled to only 10 classes and 10000 observations per class. Please build a baseline classification model then run a few experiments with different optimizers and learning rates. \n",
    "\n",
    "*Don't forgot to switch to GPU on Colab!*"
   ]
  },
  {
   "cell_type": "markdown",
   "metadata": {
    "colab_type": "text",
    "id": "ptJ2b3wk62Ud"
   },
   "source": [
    "### Write a function to load your data\n",
    "\n",
    "Wrap yesterday's preprocessing steps into a function that returns four items:\n",
    "* X_train\n",
    "* y_train\n",
    "* X_test\n",
    "* y_test\n",
    "\n",
    "Your function should accept a `path` to the data as a argument."
   ]
  },
  {
   "cell_type": "code",
   "execution_count": 69,
   "metadata": {},
   "outputs": [],
   "source": [
    "import numpy as np\n",
    "import pandas as pd\n",
    "import tensorflow as tf\n",
    "import sklearn.model_selection as model_selection\n",
    "from sklearn.model_selection import train_test_split\n",
    "from sklearn.utils import shuffle"
   ]
  },
  {
   "cell_type": "code",
   "execution_count": 79,
   "metadata": {},
   "outputs": [
    {
     "name": "stdout",
     "output_type": "stream",
     "text": [
      "(100000, 784) (100000,)\n"
     ]
    }
   ],
   "source": [
    "data = np.load('/Users/matthewdmeans/unit4/DS-Unit-4-Sprint-2-Neural-Networks/quickdraw10.npz')\n",
    "\n",
    "X = data['arr_0']\n",
    "y = data['arr_1']\n",
    "\n",
    "print(X.shape, y.shape)"
   ]
  },
  {
   "cell_type": "code",
   "execution_count": 80,
   "metadata": {
    "colab": {},
    "colab_type": "code",
    "id": "nJsIsrvp7O3e"
   },
   "outputs": [],
   "source": [
    "def load_quickdraw(path):\n",
    "    \n",
    "  data = np.load(path)\n",
    "  X = data['arr_0']\n",
    "  y = data['arr_1']\n",
    "  X = X.astype('float32') / 255\n",
    "\n",
    "  return train_test_split(X, y, test_size=.2, random_state=42)"
   ]
  },
  {
   "cell_type": "code",
   "execution_count": 81,
   "metadata": {},
   "outputs": [],
   "source": [
    "X_train, X_test, y_train, y_test = load_quickdraw('/Users/matthewdmeans/unit4/DS-Unit-4-Sprint-2-Neural-Networks/quickdraw10.npz')"
   ]
  },
  {
   "cell_type": "markdown",
   "metadata": {
    "colab_type": "text",
    "id": "l-6PxI6H5__2"
   },
   "source": [
    "### Write a Model Function\n",
    "Using your model from yesterday, write a function called `create_model` which returns a compiled TensorFlow Keras Sequential Model suitable for classifying the QuickDraw-10 dataset. Include parameters for the following: \n",
    "* Learning Rate\n",
    "* Optimizer"
   ]
  },
  {
   "cell_type": "code",
   "execution_count": 72,
   "metadata": {},
   "outputs": [],
   "source": [
    "from tensorflow.keras.datasets import mnist\n",
    "from tensorflow.keras import Sequential\n",
    "from tensorflow.keras.layers import Dense\n",
    "from tensorflow.keras.optimizers import SGD\n",
    "from tensorflow import keras\n",
    "from tensorflow.keras import layers"
   ]
  },
  {
   "cell_type": "code",
   "execution_count": 82,
   "metadata": {
    "colab": {},
    "colab_type": "code",
    "id": "nEREYT-3wI1f"
   },
   "outputs": [],
   "source": [
    "##### Your Code Here #####\n",
    "\n",
    "def create_model(lr=.01):\n",
    "  opt = SGD(learning_rate=lr)\n",
    "\n",
    "  model = Sequential(\n",
    "      [Dense(32, activation='relu', input_dim=784),\n",
    "       Dense(32, activation='relu'),\n",
    "       Dense(10, activation='softmax')]\n",
    ")\n",
    "    \n",
    "  model.compile(optimizer=opt, loss='sparse_categorical_crossentropy',\n",
    "                metrics=['accuracy'])\n",
    "  return model"
   ]
  },
  {
   "cell_type": "code",
   "execution_count": 83,
   "metadata": {},
   "outputs": [],
   "source": [
    "qd_model = create_model()"
   ]
  },
  {
   "cell_type": "code",
   "execution_count": 84,
   "metadata": {},
   "outputs": [
    {
     "name": "stdout",
     "output_type": "stream",
     "text": [
      "Model: \"sequential_22\"\n",
      "_________________________________________________________________\n",
      "Layer (type)                 Output Shape              Param #   \n",
      "=================================================================\n",
      "dense_53 (Dense)             (None, 32)                25120     \n",
      "_________________________________________________________________\n",
      "dense_54 (Dense)             (None, 32)                1056      \n",
      "_________________________________________________________________\n",
      "dense_55 (Dense)             (None, 10)                330       \n",
      "=================================================================\n",
      "Total params: 26,506\n",
      "Trainable params: 26,506\n",
      "Non-trainable params: 0\n",
      "_________________________________________________________________\n"
     ]
    }
   ],
   "source": [
    "qd_model.summary()"
   ]
  },
  {
   "cell_type": "markdown",
   "metadata": {
    "colab_type": "text",
    "id": "f0pCkh8C7eGL"
   },
   "source": [
    "### Experiment with Batch Size\n",
    "* Run 5 experiments with various batch sizes of your choice. \n",
    "* Visualize the results\n",
    "* Write up an analysis of the experiments and select the \"best\" performing model among your experiments. Make sure to compare against your model's performance yesterday. "
   ]
  },
  {
   "cell_type": "code",
   "execution_count": 85,
   "metadata": {
    "colab": {},
    "colab_type": "code",
    "id": "USXjs7Hk71Hy"
   },
   "outputs": [
    {
     "name": "stdout",
     "output_type": "stream",
     "text": [
      "Epoch 1/25\n",
      "2500/2500 [==============================] - 2s 890us/step - loss: 1.1350 - accuracy: 0.6557 - val_loss: 0.8567 - val_accuracy: 0.7522\n",
      "Epoch 2/25\n",
      "2500/2500 [==============================] - 2s 886us/step - loss: 0.8001 - accuracy: 0.7677 - val_loss: 0.7508 - val_accuracy: 0.7832\n",
      "Epoch 3/25\n",
      "2500/2500 [==============================] - 2s 884us/step - loss: 0.7207 - accuracy: 0.7898 - val_loss: 0.6962 - val_accuracy: 0.7959\n",
      "Epoch 4/25\n",
      "2500/2500 [==============================] - 2s 894us/step - loss: 0.6720 - accuracy: 0.8025 - val_loss: 0.6626 - val_accuracy: 0.8058\n",
      "Epoch 5/25\n",
      "2500/2500 [==============================] - 2s 968us/step - loss: 0.6366 - accuracy: 0.8116 - val_loss: 0.6332 - val_accuracy: 0.8120\n",
      "Epoch 6/25\n",
      "2500/2500 [==============================] - 2s 901us/step - loss: 0.6087 - accuracy: 0.8202 - val_loss: 0.6100 - val_accuracy: 0.8191\n",
      "Epoch 7/25\n",
      "2500/2500 [==============================] - 2s 928us/step - loss: 0.5870 - accuracy: 0.8258 - val_loss: 0.5988 - val_accuracy: 0.8242\n",
      "Epoch 8/25\n",
      "2500/2500 [==============================] - 2s 850us/step - loss: 0.5691 - accuracy: 0.8306 - val_loss: 0.5830 - val_accuracy: 0.8260\n",
      "Epoch 9/25\n",
      "2500/2500 [==============================] - 2s 851us/step - loss: 0.5533 - accuracy: 0.8350 - val_loss: 0.5705 - val_accuracy: 0.8310\n",
      "Epoch 10/25\n",
      "2500/2500 [==============================] - 2s 851us/step - loss: 0.5405 - accuracy: 0.8387 - val_loss: 0.5666 - val_accuracy: 0.8310\n",
      "Epoch 11/25\n",
      "2500/2500 [==============================] - 2s 855us/step - loss: 0.5287 - accuracy: 0.8420 - val_loss: 0.5628 - val_accuracy: 0.8332\n",
      "Epoch 12/25\n",
      "2500/2500 [==============================] - 2s 800us/step - loss: 0.5187 - accuracy: 0.8450 - val_loss: 0.5541 - val_accuracy: 0.8359\n",
      "Epoch 13/25\n",
      "2500/2500 [==============================] - 2s 825us/step - loss: 0.5091 - accuracy: 0.8486 - val_loss: 0.5499 - val_accuracy: 0.8364\n",
      "Epoch 14/25\n",
      "2500/2500 [==============================] - 2s 963us/step - loss: 0.5016 - accuracy: 0.8500 - val_loss: 0.5453 - val_accuracy: 0.8389\n",
      "Epoch 15/25\n",
      "2500/2500 [==============================] - 2s 958us/step - loss: 0.4940 - accuracy: 0.8527 - val_loss: 0.5387 - val_accuracy: 0.8410\n",
      "Epoch 16/25\n",
      "2500/2500 [==============================] - 2s 860us/step - loss: 0.4869 - accuracy: 0.8545 - val_loss: 0.5388 - val_accuracy: 0.8400\n",
      "Epoch 17/25\n",
      "2500/2500 [==============================] - 2s 858us/step - loss: 0.4807 - accuracy: 0.8568 - val_loss: 0.5391 - val_accuracy: 0.8397\n",
      "Epoch 18/25\n",
      "2500/2500 [==============================] - 2s 936us/step - loss: 0.4744 - accuracy: 0.8585 - val_loss: 0.5273 - val_accuracy: 0.8461\n",
      "Epoch 19/25\n",
      "2500/2500 [==============================] - 2s 905us/step - loss: 0.4684 - accuracy: 0.8604 - val_loss: 0.5262 - val_accuracy: 0.8452\n",
      "Epoch 20/25\n",
      "2500/2500 [==============================] - 2s 965us/step - loss: 0.4632 - accuracy: 0.8615 - val_loss: 0.5258 - val_accuracy: 0.8448\n",
      "Epoch 21/25\n",
      "2500/2500 [==============================] - 2s 963us/step - loss: 0.4589 - accuracy: 0.8627 - val_loss: 0.5290 - val_accuracy: 0.8436\n",
      "Epoch 22/25\n",
      "2500/2500 [==============================] - 2s 863us/step - loss: 0.4538 - accuracy: 0.8643 - val_loss: 0.5307 - val_accuracy: 0.8424\n",
      "Epoch 23/25\n",
      "2500/2500 [==============================] - 2s 897us/step - loss: 0.4493 - accuracy: 0.8662 - val_loss: 0.5179 - val_accuracy: 0.8474\n",
      "Epoch 24/25\n",
      "2500/2500 [==============================] - 2s 906us/step - loss: 0.4450 - accuracy: 0.8675 - val_loss: 0.5309 - val_accuracy: 0.8442\n",
      "Epoch 25/25\n",
      "2500/2500 [==============================] - 2s 881us/step - loss: 0.4416 - accuracy: 0.8682 - val_loss: 0.5258 - val_accuracy: 0.8454\n"
     ]
    }
   ],
   "source": [
    "qd_model_32 = create_model()\n",
    "\n",
    "bt_default= qd_model.fit(X_train, y_train,\n",
    "                        epochs=25, batch_size=32,\n",
    "                        validation_data=(X_test, y_test))"
   ]
  },
  {
   "cell_type": "code",
   "execution_count": 86,
   "metadata": {},
   "outputs": [
    {
     "name": "stdout",
     "output_type": "stream",
     "text": [
      "Epoch 1/25\n",
      "5000/5000 [==============================] - 7s 1ms/step - loss: 0.4574 - accuracy: 0.8634 - val_loss: 0.5377 - val_accuracy: 0.8430\n",
      "Epoch 2/25\n",
      "5000/5000 [==============================] - 7s 1ms/step - loss: 0.4506 - accuracy: 0.8647 - val_loss: 0.5269 - val_accuracy: 0.8443\n",
      "Epoch 3/25\n",
      "5000/5000 [==============================] - 7s 1ms/step - loss: 0.4440 - accuracy: 0.8667 - val_loss: 0.5190 - val_accuracy: 0.8474\n",
      "Epoch 4/25\n",
      "5000/5000 [==============================] - 7s 1ms/step - loss: 0.4385 - accuracy: 0.8689 - val_loss: 0.5184 - val_accuracy: 0.8472\n",
      "Epoch 5/25\n",
      "5000/5000 [==============================] - 7s 1ms/step - loss: 0.4324 - accuracy: 0.8701 - val_loss: 0.5190 - val_accuracy: 0.8458\n",
      "Epoch 6/25\n",
      "5000/5000 [==============================] - 6s 1ms/step - loss: 0.4274 - accuracy: 0.8719 - val_loss: 0.5187 - val_accuracy: 0.8488\n",
      "Epoch 7/25\n",
      "5000/5000 [==============================] - 7s 1ms/step - loss: 0.4233 - accuracy: 0.8729 - val_loss: 0.5173 - val_accuracy: 0.8485\n",
      "Epoch 8/25\n",
      "5000/5000 [==============================] - 6s 1ms/step - loss: 0.4190 - accuracy: 0.8742 - val_loss: 0.5243 - val_accuracy: 0.8461\n",
      "Epoch 9/25\n",
      "5000/5000 [==============================] - 7s 1ms/step - loss: 0.4151 - accuracy: 0.8753 - val_loss: 0.5222 - val_accuracy: 0.8451\n",
      "Epoch 10/25\n",
      "5000/5000 [==============================] - 6s 1ms/step - loss: 0.4109 - accuracy: 0.8763 - val_loss: 0.5122 - val_accuracy: 0.8504\n",
      "Epoch 11/25\n",
      "5000/5000 [==============================] - 6s 1ms/step - loss: 0.4073 - accuracy: 0.8773 - val_loss: 0.5176 - val_accuracy: 0.8479\n",
      "Epoch 12/25\n",
      "5000/5000 [==============================] - 6s 1ms/step - loss: 0.4037 - accuracy: 0.8782 - val_loss: 0.5112 - val_accuracy: 0.8502\n",
      "Epoch 13/25\n",
      "5000/5000 [==============================] - 6s 1ms/step - loss: 0.4007 - accuracy: 0.8791 - val_loss: 0.5194 - val_accuracy: 0.8468\n",
      "Epoch 14/25\n",
      "5000/5000 [==============================] - 6s 1ms/step - loss: 0.3971 - accuracy: 0.8801 - val_loss: 0.5143 - val_accuracy: 0.8472\n",
      "Epoch 15/25\n",
      "5000/5000 [==============================] - 7s 1ms/step - loss: 0.3939 - accuracy: 0.8807 - val_loss: 0.5177 - val_accuracy: 0.8479\n",
      "Epoch 16/25\n",
      "5000/5000 [==============================] - 7s 1ms/step - loss: 0.3912 - accuracy: 0.8823 - val_loss: 0.5219 - val_accuracy: 0.8486\n",
      "Epoch 17/25\n",
      "5000/5000 [==============================] - 7s 1ms/step - loss: 0.3886 - accuracy: 0.8826 - val_loss: 0.5116 - val_accuracy: 0.8508\n",
      "Epoch 18/25\n",
      "5000/5000 [==============================] - 6s 1ms/step - loss: 0.3858 - accuracy: 0.8835 - val_loss: 0.5172 - val_accuracy: 0.8475\n",
      "Epoch 19/25\n",
      "5000/5000 [==============================] - 6s 1ms/step - loss: 0.3831 - accuracy: 0.8844 - val_loss: 0.5102 - val_accuracy: 0.8515\n",
      "Epoch 20/25\n",
      "5000/5000 [==============================] - 6s 1ms/step - loss: 0.3802 - accuracy: 0.8850 - val_loss: 0.5309 - val_accuracy: 0.8440\n",
      "Epoch 21/25\n",
      "5000/5000 [==============================] - 6s 1ms/step - loss: 0.3781 - accuracy: 0.8866 - val_loss: 0.5215 - val_accuracy: 0.8476\n",
      "Epoch 22/25\n",
      "5000/5000 [==============================] - 6s 1ms/step - loss: 0.3755 - accuracy: 0.8856 - val_loss: 0.5258 - val_accuracy: 0.8478\n",
      "Epoch 23/25\n",
      "5000/5000 [==============================] - 6s 1ms/step - loss: 0.3735 - accuracy: 0.8877 - val_loss: 0.5160 - val_accuracy: 0.8504\n",
      "Epoch 24/25\n",
      "5000/5000 [==============================] - 6s 1ms/step - loss: 0.3707 - accuracy: 0.8880 - val_loss: 0.5237 - val_accuracy: 0.8480\n",
      "Epoch 25/25\n",
      "5000/5000 [==============================] - 6s 1ms/step - loss: 0.3695 - accuracy: 0.8876 - val_loss: 0.5212 - val_accuracy: 0.8502\n"
     ]
    }
   ],
   "source": [
    "qd_model_16 = create_model()\n",
    "\n",
    "bt_16= qd_model.fit(X_train, y_train,\n",
    "                        epochs=25, batch_size=16,\n",
    "                        validation_data=(X_test, y_test))"
   ]
  },
  {
   "cell_type": "code",
   "execution_count": 90,
   "metadata": {},
   "outputs": [
    {
     "name": "stdout",
     "output_type": "stream",
     "text": [
      "Epoch 1/25\n",
      "1250/1250 [==============================] - 2s 2ms/step - loss: 0.3334 - accuracy: 0.8990 - val_loss: 0.5304 - val_accuracy: 0.8505\n",
      "Epoch 2/25\n",
      "1250/1250 [==============================] - 2s 2ms/step - loss: 0.3215 - accuracy: 0.9036 - val_loss: 0.5348 - val_accuracy: 0.8503\n",
      "Epoch 3/25\n",
      "1250/1250 [==============================] - 2s 2ms/step - loss: 0.3181 - accuracy: 0.9047 - val_loss: 0.5407 - val_accuracy: 0.8486\n",
      "Epoch 4/25\n",
      "1250/1250 [==============================] - 2s 1ms/step - loss: 0.3159 - accuracy: 0.9052 - val_loss: 0.5390 - val_accuracy: 0.8486\n",
      "Epoch 5/25\n",
      "1250/1250 [==============================] - 2s 1ms/step - loss: 0.3140 - accuracy: 0.9057 - val_loss: 0.5395 - val_accuracy: 0.8496\n",
      "Epoch 6/25\n",
      "1250/1250 [==============================] - 2s 1ms/step - loss: 0.3132 - accuracy: 0.9065 - val_loss: 0.5405 - val_accuracy: 0.8470\n",
      "Epoch 7/25\n",
      "1250/1250 [==============================] - 2s 1ms/step - loss: 0.3126 - accuracy: 0.9068 - val_loss: 0.5405 - val_accuracy: 0.8477\n",
      "Epoch 8/25\n",
      "1250/1250 [==============================] - 2s 1ms/step - loss: 0.3116 - accuracy: 0.9070 - val_loss: 0.5425 - val_accuracy: 0.8479\n",
      "Epoch 9/25\n",
      "1250/1250 [==============================] - 2s 1ms/step - loss: 0.3110 - accuracy: 0.9070 - val_loss: 0.5447 - val_accuracy: 0.8474\n",
      "Epoch 10/25\n",
      "1250/1250 [==============================] - 2s 1ms/step - loss: 0.3104 - accuracy: 0.9079 - val_loss: 0.5477 - val_accuracy: 0.8478\n",
      "Epoch 11/25\n",
      "1250/1250 [==============================] - 2s 1ms/step - loss: 0.3099 - accuracy: 0.9076 - val_loss: 0.5455 - val_accuracy: 0.8493\n",
      "Epoch 12/25\n",
      "1250/1250 [==============================] - 2s 1ms/step - loss: 0.3095 - accuracy: 0.9081 - val_loss: 0.5475 - val_accuracy: 0.8464\n",
      "Epoch 13/25\n",
      "1250/1250 [==============================] - 2s 1ms/step - loss: 0.3087 - accuracy: 0.9080 - val_loss: 0.5524 - val_accuracy: 0.8464\n",
      "Epoch 14/25\n",
      "1250/1250 [==============================] - 2s 2ms/step - loss: 0.3085 - accuracy: 0.9079 - val_loss: 0.5554 - val_accuracy: 0.8469\n",
      "Epoch 15/25\n",
      "1250/1250 [==============================] - 2s 2ms/step - loss: 0.3080 - accuracy: 0.9082 - val_loss: 0.5516 - val_accuracy: 0.8479\n",
      "Epoch 16/25\n",
      "1250/1250 [==============================] - 2s 2ms/step - loss: 0.3078 - accuracy: 0.9081 - val_loss: 0.5522 - val_accuracy: 0.8465\n",
      "Epoch 17/25\n",
      "1250/1250 [==============================] - 2s 2ms/step - loss: 0.3075 - accuracy: 0.9086 - val_loss: 0.5499 - val_accuracy: 0.8465\n",
      "Epoch 18/25\n",
      "1250/1250 [==============================] - 2s 1ms/step - loss: 0.3067 - accuracy: 0.9088 - val_loss: 0.5530 - val_accuracy: 0.8458\n",
      "Epoch 19/25\n",
      "1250/1250 [==============================] - 2s 1ms/step - loss: 0.3066 - accuracy: 0.9085 - val_loss: 0.5529 - val_accuracy: 0.8471\n",
      "Epoch 20/25\n",
      "1250/1250 [==============================] - 2s 2ms/step - loss: 0.3058 - accuracy: 0.9090 - val_loss: 0.5549 - val_accuracy: 0.8449\n",
      "Epoch 21/25\n",
      "1250/1250 [==============================] - 2s 2ms/step - loss: 0.3055 - accuracy: 0.9093 - val_loss: 0.5529 - val_accuracy: 0.8462\n",
      "Epoch 22/25\n",
      "1250/1250 [==============================] - 2s 2ms/step - loss: 0.3049 - accuracy: 0.9087 - val_loss: 0.5626 - val_accuracy: 0.8454\n",
      "Epoch 23/25\n",
      "1250/1250 [==============================] - 2s 1ms/step - loss: 0.3047 - accuracy: 0.9097 - val_loss: 0.5565 - val_accuracy: 0.8451\n",
      "Epoch 24/25\n",
      "1250/1250 [==============================] - 2s 2ms/step - loss: 0.3044 - accuracy: 0.9095 - val_loss: 0.5582 - val_accuracy: 0.8454\n",
      "Epoch 25/25\n",
      "1250/1250 [==============================] - 2s 2ms/step - loss: 0.3042 - accuracy: 0.9092 - val_loss: 0.5592 - val_accuracy: 0.8456\n"
     ]
    }
   ],
   "source": [
    "qd_model_64 = create_model()\n",
    "\n",
    "bt_64 = qd_model.fit(X_train, y_train,\n",
    "                        epochs=25, batch_size=64,\n",
    "                        validation_data=(X_test, y_test))"
   ]
  },
  {
   "cell_type": "code",
   "execution_count": 92,
   "metadata": {},
   "outputs": [
    {
     "name": "stdout",
     "output_type": "stream",
     "text": [
      "Epoch 1/25\n",
      "625/625 [==============================] - 3s 5ms/step - loss: 0.3229 - accuracy: 0.9026 - val_loss: 0.5311 - val_accuracy: 0.8497\n",
      "Epoch 2/25\n",
      "625/625 [==============================] - 3s 5ms/step - loss: 0.3134 - accuracy: 0.9065 - val_loss: 0.5307 - val_accuracy: 0.8497\n",
      "Epoch 3/25\n",
      "625/625 [==============================] - 3s 5ms/step - loss: 0.3096 - accuracy: 0.9076 - val_loss: 0.5297 - val_accuracy: 0.8514\n",
      "Epoch 4/25\n",
      "625/625 [==============================] - 3s 5ms/step - loss: 0.3070 - accuracy: 0.9079 - val_loss: 0.5313 - val_accuracy: 0.8504\n",
      "Epoch 5/25\n",
      "625/625 [==============================] - 4s 6ms/step - loss: 0.3052 - accuracy: 0.9091 - val_loss: 0.5334 - val_accuracy: 0.8504\n",
      "Epoch 6/25\n",
      "625/625 [==============================] - 3s 5ms/step - loss: 0.3040 - accuracy: 0.9093 - val_loss: 0.5330 - val_accuracy: 0.8504\n",
      "Epoch 7/25\n",
      "625/625 [==============================] - 3s 4ms/step - loss: 0.3026 - accuracy: 0.9099 - val_loss: 0.5342 - val_accuracy: 0.8503\n",
      "Epoch 8/25\n",
      "625/625 [==============================] - 3s 5ms/step - loss: 0.3019 - accuracy: 0.9099 - val_loss: 0.5357 - val_accuracy: 0.8493\n",
      "Epoch 9/25\n",
      "625/625 [==============================] - 3s 5ms/step - loss: 0.3009 - accuracy: 0.9105 - val_loss: 0.5352 - val_accuracy: 0.8497\n",
      "Epoch 10/25\n",
      "625/625 [==============================] - 3s 5ms/step - loss: 0.3001 - accuracy: 0.9107 - val_loss: 0.5362 - val_accuracy: 0.8500\n",
      "Epoch 11/25\n",
      "625/625 [==============================] - 3s 5ms/step - loss: 0.2994 - accuracy: 0.9109 - val_loss: 0.5376 - val_accuracy: 0.8497\n",
      "Epoch 12/25\n",
      "625/625 [==============================] - 3s 5ms/step - loss: 0.2988 - accuracy: 0.9112 - val_loss: 0.5385 - val_accuracy: 0.8493\n",
      "Epoch 13/25\n",
      "625/625 [==============================] - 3s 4ms/step - loss: 0.2983 - accuracy: 0.9114 - val_loss: 0.5414 - val_accuracy: 0.8491\n",
      "Epoch 14/25\n",
      "625/625 [==============================] - 3s 4ms/step - loss: 0.2976 - accuracy: 0.9116 - val_loss: 0.5400 - val_accuracy: 0.8490\n",
      "Epoch 15/25\n",
      "625/625 [==============================] - 3s 5ms/step - loss: 0.2973 - accuracy: 0.9116 - val_loss: 0.5410 - val_accuracy: 0.8485\n",
      "Epoch 16/25\n",
      "625/625 [==============================] - 3s 5ms/step - loss: 0.2966 - accuracy: 0.9124 - val_loss: 0.5420 - val_accuracy: 0.8487\n",
      "Epoch 17/25\n",
      "625/625 [==============================] - 3s 5ms/step - loss: 0.2963 - accuracy: 0.9123 - val_loss: 0.5427 - val_accuracy: 0.8489\n",
      "Epoch 18/25\n",
      "625/625 [==============================] - 3s 5ms/step - loss: 0.2958 - accuracy: 0.9128 - val_loss: 0.5442 - val_accuracy: 0.8483\n",
      "Epoch 19/25\n",
      "625/625 [==============================] - 3s 5ms/step - loss: 0.2955 - accuracy: 0.9123 - val_loss: 0.5460 - val_accuracy: 0.8495\n",
      "Epoch 20/25\n",
      "625/625 [==============================] - 3s 5ms/step - loss: 0.2952 - accuracy: 0.9125 - val_loss: 0.5477 - val_accuracy: 0.8490\n",
      "Epoch 21/25\n",
      "625/625 [==============================] - 3s 5ms/step - loss: 0.2949 - accuracy: 0.9128 - val_loss: 0.5475 - val_accuracy: 0.8476\n",
      "Epoch 22/25\n",
      "625/625 [==============================] - 3s 4ms/step - loss: 0.2943 - accuracy: 0.9128 - val_loss: 0.5486 - val_accuracy: 0.8490\n",
      "Epoch 23/25\n",
      "625/625 [==============================] - 3s 4ms/step - loss: 0.2942 - accuracy: 0.9129 - val_loss: 0.5473 - val_accuracy: 0.8480\n",
      "Epoch 24/25\n",
      "625/625 [==============================] - 3s 5ms/step - loss: 0.2938 - accuracy: 0.9129 - val_loss: 0.5488 - val_accuracy: 0.8476\n",
      "Epoch 25/25\n",
      "625/625 [==============================] - 3s 5ms/step - loss: 0.2934 - accuracy: 0.9137 - val_loss: 0.5503 - val_accuracy: 0.8482\n"
     ]
    }
   ],
   "source": [
    "qd_model_128 = create_model()\n",
    "\n",
    "bt_128 = qd_model.fit(X_train, y_train,\n",
    "                        epochs=25, batch_size=128,\n",
    "                        validation_data=(X_test, y_test))"
   ]
  },
  {
   "cell_type": "code",
   "execution_count": 93,
   "metadata": {},
   "outputs": [
    {
     "name": "stdout",
     "output_type": "stream",
     "text": [
      "Epoch 1/25\n",
      "10000/10000 [==============================] - 14s 1ms/step - loss: 0.3784 - accuracy: 0.8817 - val_loss: 0.5903 - val_accuracy: 0.8350\n",
      "Epoch 2/25\n",
      "10000/10000 [==============================] - 14s 1ms/step - loss: 0.3730 - accuracy: 0.8835 - val_loss: 0.5511 - val_accuracy: 0.8438\n",
      "Epoch 3/25\n",
      "10000/10000 [==============================] - 15s 2ms/step - loss: 0.3686 - accuracy: 0.8850 - val_loss: 0.5575 - val_accuracy: 0.8418\n",
      "Epoch 4/25\n",
      "10000/10000 [==============================] - 14s 1ms/step - loss: 0.3648 - accuracy: 0.8866 - val_loss: 0.5999 - val_accuracy: 0.8341\n",
      "Epoch 5/25\n",
      "10000/10000 [==============================] - 13s 1ms/step - loss: 0.3613 - accuracy: 0.8880 - val_loss: 0.5636 - val_accuracy: 0.8414\n",
      "Epoch 6/25\n",
      "10000/10000 [==============================] - 12s 1ms/step - loss: 0.3593 - accuracy: 0.8887 - val_loss: 0.5462 - val_accuracy: 0.8464\n",
      "Epoch 7/25\n",
      "10000/10000 [==============================] - 12s 1ms/step - loss: 0.3575 - accuracy: 0.8894 - val_loss: 0.5575 - val_accuracy: 0.8430\n",
      "Epoch 8/25\n",
      "10000/10000 [==============================] - 12s 1ms/step - loss: 0.3546 - accuracy: 0.8906 - val_loss: 0.5566 - val_accuracy: 0.8406\n",
      "Epoch 9/25\n",
      "10000/10000 [==============================] - 12s 1ms/step - loss: 0.3519 - accuracy: 0.8906 - val_loss: 0.5555 - val_accuracy: 0.8471\n",
      "Epoch 10/25\n",
      "10000/10000 [==============================] - 13s 1ms/step - loss: 0.3502 - accuracy: 0.8921 - val_loss: 0.5614 - val_accuracy: 0.8410\n",
      "Epoch 11/25\n",
      "10000/10000 [==============================] - 13s 1ms/step - loss: 0.3485 - accuracy: 0.8926 - val_loss: 0.5671 - val_accuracy: 0.8411\n",
      "Epoch 12/25\n",
      "10000/10000 [==============================] - 13s 1ms/step - loss: 0.3472 - accuracy: 0.8929 - val_loss: 0.5551 - val_accuracy: 0.8440\n",
      "Epoch 13/25\n",
      "10000/10000 [==============================] - 14s 1ms/step - loss: 0.3465 - accuracy: 0.8924 - val_loss: 0.5632 - val_accuracy: 0.8433\n",
      "Epoch 14/25\n",
      "10000/10000 [==============================] - 14s 1ms/step - loss: 0.3441 - accuracy: 0.8941 - val_loss: 0.5745 - val_accuracy: 0.8418\n",
      "Epoch 15/25\n",
      "10000/10000 [==============================] - 14s 1ms/step - loss: 0.3425 - accuracy: 0.8942 - val_loss: 0.5624 - val_accuracy: 0.8437\n",
      "Epoch 16/25\n",
      "10000/10000 [==============================] - 15s 1ms/step - loss: 0.3390 - accuracy: 0.8950 - val_loss: 0.5706 - val_accuracy: 0.8438\n",
      "Epoch 17/25\n",
      "10000/10000 [==============================] - 19s 2ms/step - loss: 0.3399 - accuracy: 0.8953 - val_loss: 0.5792 - val_accuracy: 0.8396\n",
      "Epoch 18/25\n",
      "10000/10000 [==============================] - 14s 1ms/step - loss: 0.3394 - accuracy: 0.8950 - val_loss: 0.5600 - val_accuracy: 0.8389\n",
      "Epoch 19/25\n",
      "10000/10000 [==============================] - 13s 1ms/step - loss: 0.3363 - accuracy: 0.8952 - val_loss: 0.5732 - val_accuracy: 0.8404\n",
      "Epoch 20/25\n",
      "10000/10000 [==============================] - 13s 1ms/step - loss: 0.3360 - accuracy: 0.8954 - val_loss: 0.5624 - val_accuracy: 0.8468\n",
      "Epoch 21/25\n",
      "10000/10000 [==============================] - 12s 1ms/step - loss: 0.3341 - accuracy: 0.8959 - val_loss: 0.5791 - val_accuracy: 0.8418\n",
      "Epoch 22/25\n",
      "10000/10000 [==============================] - 12s 1ms/step - loss: 0.3338 - accuracy: 0.8964 - val_loss: 0.5649 - val_accuracy: 0.8454\n",
      "Epoch 23/25\n",
      "10000/10000 [==============================] - 12s 1ms/step - loss: 0.3320 - accuracy: 0.8967 - val_loss: 0.5743 - val_accuracy: 0.8440\n",
      "Epoch 24/25\n",
      "10000/10000 [==============================] - 13s 1ms/step - loss: 0.3314 - accuracy: 0.8969 - val_loss: 0.5878 - val_accuracy: 0.8422\n",
      "Epoch 25/25\n",
      "10000/10000 [==============================] - 13s 1ms/step - loss: 0.3297 - accuracy: 0.8975 - val_loss: 0.5725 - val_accuracy: 0.8443\n"
     ]
    }
   ],
   "source": [
    "qd_model_8 = create_model()\n",
    "\n",
    "bt_8 = qd_model.fit(X_train, y_train,\n",
    "                        epochs=25, batch_size=8,\n",
    "                        validation_data=(X_test, y_test))"
   ]
  },
  {
   "cell_type": "code",
   "execution_count": 95,
   "metadata": {},
   "outputs": [],
   "source": [
    "batch_sizes = []\n",
    "\n",
    "for exp, result in zip([bt_default, bt_16, bt_8, bt_64, bt_128], [\"32_\",\"16_\",\"8_\",\"64_\",\"128_\"]):\n",
    "\n",
    "  df = pd.DataFrame.from_dict(exp.history)\n",
    "  df['epoch'] = df.index.values\n",
    "  df['batch_size'] = result\n",
    "\n",
    "  batch_sizes.append(df)\n",
    "\n",
    "df = pd.concat(batch_sizes)\n",
    "df['batch_size'] = df['batch_size'].astype('str')"
   ]
  },
  {
   "cell_type": "code",
   "execution_count": 96,
   "metadata": {},
   "outputs": [
    {
     "data": {
      "text/html": [
       "<div>\n",
       "<style scoped>\n",
       "    .dataframe tbody tr th:only-of-type {\n",
       "        vertical-align: middle;\n",
       "    }\n",
       "\n",
       "    .dataframe tbody tr th {\n",
       "        vertical-align: top;\n",
       "    }\n",
       "\n",
       "    .dataframe thead th {\n",
       "        text-align: right;\n",
       "    }\n",
       "</style>\n",
       "<table border=\"1\" class=\"dataframe\">\n",
       "  <thead>\n",
       "    <tr style=\"text-align: right;\">\n",
       "      <th></th>\n",
       "      <th>loss</th>\n",
       "      <th>accuracy</th>\n",
       "      <th>val_loss</th>\n",
       "      <th>val_accuracy</th>\n",
       "      <th>epoch</th>\n",
       "      <th>batch_size</th>\n",
       "    </tr>\n",
       "  </thead>\n",
       "  <tbody>\n",
       "    <tr>\n",
       "      <th>0</th>\n",
       "      <td>0.341702</td>\n",
       "      <td>0.898600</td>\n",
       "      <td>0.509184</td>\n",
       "      <td>0.85265</td>\n",
       "      <td>0</td>\n",
       "      <td>32_</td>\n",
       "    </tr>\n",
       "    <tr>\n",
       "      <th>1</th>\n",
       "      <td>0.338868</td>\n",
       "      <td>0.899475</td>\n",
       "      <td>0.510581</td>\n",
       "      <td>0.85100</td>\n",
       "      <td>1</td>\n",
       "      <td>32_</td>\n",
       "    </tr>\n",
       "    <tr>\n",
       "      <th>2</th>\n",
       "      <td>0.337886</td>\n",
       "      <td>0.899288</td>\n",
       "      <td>0.510828</td>\n",
       "      <td>0.85235</td>\n",
       "      <td>2</td>\n",
       "      <td>32_</td>\n",
       "    </tr>\n",
       "    <tr>\n",
       "      <th>3</th>\n",
       "      <td>0.336602</td>\n",
       "      <td>0.900000</td>\n",
       "      <td>0.514368</td>\n",
       "      <td>0.85230</td>\n",
       "      <td>3</td>\n",
       "      <td>32_</td>\n",
       "    </tr>\n",
       "    <tr>\n",
       "      <th>4</th>\n",
       "      <td>0.336042</td>\n",
       "      <td>0.899675</td>\n",
       "      <td>0.515323</td>\n",
       "      <td>0.85250</td>\n",
       "      <td>4</td>\n",
       "      <td>32_</td>\n",
       "    </tr>\n",
       "  </tbody>\n",
       "</table>\n",
       "</div>"
      ],
      "text/plain": [
       "       loss  accuracy  val_loss  val_accuracy  epoch batch_size\n",
       "0  0.341702  0.898600  0.509184       0.85265      0        32_\n",
       "1  0.338868  0.899475  0.510581       0.85100      1        32_\n",
       "2  0.337886  0.899288  0.510828       0.85235      2        32_\n",
       "3  0.336602  0.900000  0.514368       0.85230      3        32_\n",
       "4  0.336042  0.899675  0.515323       0.85250      4        32_"
      ]
     },
     "execution_count": 96,
     "metadata": {},
     "output_type": "execute_result"
    }
   ],
   "source": [
    "df.head()"
   ]
  },
  {
   "cell_type": "code",
   "execution_count": 98,
   "metadata": {},
   "outputs": [
    {
     "data": {
      "text/plain": [
       "<AxesSubplot:xlabel='epoch', ylabel='val_accuracy'>"
      ]
     },
     "execution_count": 98,
     "metadata": {},
     "output_type": "execute_result"
    },
    {
     "data": {
      "image/png": "[encoded data removed]",
      "text/plain": [
       "<Figure size 432x288 with 1 Axes>"
      ]
     },
     "metadata": {
      "needs_background": "light"
     },
     "output_type": "display_data"
    }
   ],
   "source": [
    "sns.lineplot(x='epoch', y='val_accuracy', hue='batch_size', data=df)"
   ]
  },
  {
   "cell_type": "code",
   "execution_count": 99,
   "metadata": {},
   "outputs": [
    {
     "data": {
      "image/png": "[encoded data removed]",
      "text/plain": [
       "<Figure size 432x288 with 1 Axes>"
      ]
     },
     "metadata": {
      "needs_background": "light"
     },
     "output_type": "display_data"
    }
   ],
   "source": [
    "sns.lineplot(x='epoch', y='val_loss', hue='batch_size', data=df);"
   ]
  },
  {
   "cell_type": "markdown",
   "metadata": {
    "colab_type": "text",
    "id": "8b-r70o8p2Dm"
   },
   "source": [
    "### Experiment with Learning Rate\n",
    "* Run 5 experiments with various learning rate magnitudes: 1, .1, .01, .001, .0001.\n",
    "* Use the \"best\" batch size from the previous experiment\n",
    "* Visualize the results\n",
    "* Write up an analysis of the experiments and select the \"best\" performing model among your experiments. Make sure to compare against the previous experiments and your model's performance yesterday. "
   ]
  },
  {
   "cell_type": "code",
   "execution_count": 102,
   "metadata": {
    "colab": {},
    "colab_type": "code",
    "id": "_SA144xx8Luf"
   },
   "outputs": [
    {
     "name": "stdout",
     "output_type": "stream",
     "text": [
      "Epoch 1/25\n",
      "625/625 [==============================] - 1s 2ms/step - loss: 0.9625 - accuracy: 0.6885 - val_loss: 0.6747 - val_accuracy: 0.7932\n",
      "Epoch 2/25\n",
      "625/625 [==============================] - 1s 2ms/step - loss: 0.6779 - accuracy: 0.7917 - val_loss: 0.6871 - val_accuracy: 0.7922\n",
      "Epoch 3/25\n",
      "625/625 [==============================] - 1s 1ms/step - loss: 0.6245 - accuracy: 0.8080 - val_loss: 0.6035 - val_accuracy: 0.8134\n",
      "Epoch 4/25\n",
      "625/625 [==============================] - 1s 1ms/step - loss: 0.5894 - accuracy: 0.8185 - val_loss: 0.6092 - val_accuracy: 0.8148\n",
      "Epoch 5/25\n",
      "625/625 [==============================] - 1s 1ms/step - loss: 0.5695 - accuracy: 0.8245 - val_loss: 0.5873 - val_accuracy: 0.8235\n",
      "Epoch 6/25\n",
      "625/625 [==============================] - 1s 1ms/step - loss: 0.5560 - accuracy: 0.8296 - val_loss: 0.6318 - val_accuracy: 0.8128\n",
      "Epoch 7/25\n",
      "625/625 [==============================] - 1s 1ms/step - loss: 0.5475 - accuracy: 0.8301 - val_loss: 0.5850 - val_accuracy: 0.8202\n",
      "Epoch 8/25\n",
      "625/625 [==============================] - 1s 1ms/step - loss: 0.5358 - accuracy: 0.8353 - val_loss: 0.5782 - val_accuracy: 0.8244\n",
      "Epoch 9/25\n",
      "625/625 [==============================] - 1s 1ms/step - loss: 0.5261 - accuracy: 0.8373 - val_loss: 0.5666 - val_accuracy: 0.8268\n",
      "Epoch 10/25\n",
      "625/625 [==============================] - 1s 2ms/step - loss: 0.5172 - accuracy: 0.8403 - val_loss: 0.5955 - val_accuracy: 0.8246\n",
      "Epoch 11/25\n",
      "625/625 [==============================] - 1s 1ms/step - loss: 0.5153 - accuracy: 0.8419 - val_loss: 0.6008 - val_accuracy: 0.8203\n",
      "Epoch 12/25\n",
      "625/625 [==============================] - 1s 1ms/step - loss: 0.5086 - accuracy: 0.8438 - val_loss: 0.5722 - val_accuracy: 0.8288\n",
      "Epoch 13/25\n",
      "625/625 [==============================] - 1s 1ms/step - loss: 0.5103 - accuracy: 0.8437 - val_loss: 0.5712 - val_accuracy: 0.8304\n",
      "Epoch 14/25\n",
      "625/625 [==============================] - 1s 1ms/step - loss: 0.5019 - accuracy: 0.8468 - val_loss: 0.5875 - val_accuracy: 0.8314\n",
      "Epoch 15/25\n",
      "625/625 [==============================] - 1s 1ms/step - loss: 0.4995 - accuracy: 0.8461 - val_loss: 0.5794 - val_accuracy: 0.8300\n",
      "Epoch 16/25\n",
      "625/625 [==============================] - 1s 1ms/step - loss: 0.4957 - accuracy: 0.8473 - val_loss: 0.6005 - val_accuracy: 0.8271\n",
      "Epoch 17/25\n",
      "625/625 [==============================] - 1s 2ms/step - loss: 0.4926 - accuracy: 0.8488 - val_loss: 0.5883 - val_accuracy: 0.8263\n",
      "Epoch 18/25\n",
      "625/625 [==============================] - 1s 1ms/step - loss: 0.4883 - accuracy: 0.8499 - val_loss: 0.6378 - val_accuracy: 0.8160\n",
      "Epoch 19/25\n",
      "625/625 [==============================] - 1s 1ms/step - loss: 0.4844 - accuracy: 0.8521 - val_loss: 0.5749 - val_accuracy: 0.8331\n",
      "Epoch 20/25\n",
      "625/625 [==============================] - 1s 1ms/step - loss: 0.4824 - accuracy: 0.8520 - val_loss: 0.6022 - val_accuracy: 0.8247\n",
      "Epoch 21/25\n",
      "625/625 [==============================] - 1s 1ms/step - loss: 0.4815 - accuracy: 0.8519 - val_loss: 0.6256 - val_accuracy: 0.8207\n",
      "Epoch 22/25\n",
      "625/625 [==============================] - 1s 1ms/step - loss: 0.4781 - accuracy: 0.8537 - val_loss: 0.5785 - val_accuracy: 0.8344\n",
      "Epoch 23/25\n",
      "625/625 [==============================] - 1s 1ms/step - loss: 0.4741 - accuracy: 0.8537 - val_loss: 0.6092 - val_accuracy: 0.8290\n",
      "Epoch 24/25\n",
      "625/625 [==============================] - 1s 1ms/step - loss: 0.4731 - accuracy: 0.8546 - val_loss: 0.5949 - val_accuracy: 0.8329\n",
      "Epoch 25/25\n",
      "625/625 [==============================] - 1s 1ms/step - loss: 0.4677 - accuracy: 0.8554 - val_loss: 0.5903 - val_accuracy: 0.8344\n"
     ]
    }
   ],
   "source": [
    "lr_model_1 = create_model(lr=1)\n",
    "\n",
    "bt_1 = lr_model_1.fit(X_train, y_train,\n",
    "                     epochs=25,\n",
    "                     batch_size=128,\n",
    "                     validation_data=(X_test, y_test))"
   ]
  },
  {
   "cell_type": "code",
   "execution_count": 103,
   "metadata": {},
   "outputs": [
    {
     "name": "stdout",
     "output_type": "stream",
     "text": [
      "Epoch 1/25\n",
      "625/625 [==============================] - 1s 2ms/step - loss: 0.9788 - accuracy: 0.6996 - val_loss: 0.7868 - val_accuracy: 0.7660\n",
      "Epoch 2/25\n",
      "625/625 [==============================] - 1s 2ms/step - loss: 0.7024 - accuracy: 0.7919 - val_loss: 0.6377 - val_accuracy: 0.8105\n",
      "Epoch 3/25\n",
      "625/625 [==============================] - 1s 1ms/step - loss: 0.6162 - accuracy: 0.8162 - val_loss: 0.5942 - val_accuracy: 0.8202\n",
      "Epoch 4/25\n",
      "625/625 [==============================] - 1s 1ms/step - loss: 0.5699 - accuracy: 0.8294 - val_loss: 0.5606 - val_accuracy: 0.8328\n",
      "Epoch 5/25\n",
      "625/625 [==============================] - 1s 1ms/step - loss: 0.5408 - accuracy: 0.8379 - val_loss: 0.5614 - val_accuracy: 0.8320\n",
      "Epoch 6/25\n",
      "625/625 [==============================] - 1s 1ms/step - loss: 0.5197 - accuracy: 0.8444 - val_loss: 0.5319 - val_accuracy: 0.8397\n",
      "Epoch 7/25\n",
      "625/625 [==============================] - 1s 1ms/step - loss: 0.5024 - accuracy: 0.8491 - val_loss: 0.5352 - val_accuracy: 0.8380\n",
      "Epoch 8/25\n",
      "625/625 [==============================] - 1s 1ms/step - loss: 0.4890 - accuracy: 0.8537 - val_loss: 0.5206 - val_accuracy: 0.8431\n",
      "Epoch 9/25\n",
      "625/625 [==============================] - 1s 1ms/step - loss: 0.4785 - accuracy: 0.8548 - val_loss: 0.5267 - val_accuracy: 0.8386\n",
      "Epoch 10/25\n",
      "625/625 [==============================] - 1s 2ms/step - loss: 0.4693 - accuracy: 0.8583 - val_loss: 0.5177 - val_accuracy: 0.8436\n",
      "Epoch 11/25\n",
      "625/625 [==============================] - 1s 1ms/step - loss: 0.4604 - accuracy: 0.8618 - val_loss: 0.5123 - val_accuracy: 0.8451\n",
      "Epoch 12/25\n",
      "625/625 [==============================] - 1s 1ms/step - loss: 0.4540 - accuracy: 0.8634 - val_loss: 0.5140 - val_accuracy: 0.8456\n",
      "Epoch 13/25\n",
      "625/625 [==============================] - 1s 1ms/step - loss: 0.4469 - accuracy: 0.8660 - val_loss: 0.5092 - val_accuracy: 0.8475\n",
      "Epoch 14/25\n",
      "625/625 [==============================] - 1s 1ms/step - loss: 0.4415 - accuracy: 0.8678 - val_loss: 0.5151 - val_accuracy: 0.8457\n",
      "Epoch 15/25\n",
      "625/625 [==============================] - 1s 1ms/step - loss: 0.4354 - accuracy: 0.8685 - val_loss: 0.5149 - val_accuracy: 0.8442\n",
      "Epoch 16/25\n",
      "625/625 [==============================] - 1s 2ms/step - loss: 0.4296 - accuracy: 0.8701 - val_loss: 0.5097 - val_accuracy: 0.8456\n",
      "Epoch 17/25\n",
      "625/625 [==============================] - 1s 1ms/step - loss: 0.4264 - accuracy: 0.8717 - val_loss: 0.5043 - val_accuracy: 0.8480\n",
      "Epoch 18/25\n",
      "625/625 [==============================] - 1s 1ms/step - loss: 0.4216 - accuracy: 0.8730 - val_loss: 0.5122 - val_accuracy: 0.8474\n",
      "Epoch 19/25\n",
      "625/625 [==============================] - 1s 1ms/step - loss: 0.4177 - accuracy: 0.8735 - val_loss: 0.5191 - val_accuracy: 0.8458\n",
      "Epoch 20/25\n",
      "625/625 [==============================] - 1s 1ms/step - loss: 0.4141 - accuracy: 0.8756 - val_loss: 0.5270 - val_accuracy: 0.8464\n",
      "Epoch 21/25\n",
      "625/625 [==============================] - 1s 1ms/step - loss: 0.4101 - accuracy: 0.8756 - val_loss: 0.5152 - val_accuracy: 0.8485\n",
      "Epoch 22/25\n",
      "625/625 [==============================] - 1s 1ms/step - loss: 0.4071 - accuracy: 0.8768 - val_loss: 0.5141 - val_accuracy: 0.8475\n",
      "Epoch 23/25\n",
      "625/625 [==============================] - 1s 1ms/step - loss: 0.4036 - accuracy: 0.8775 - val_loss: 0.5275 - val_accuracy: 0.8446\n",
      "Epoch 24/25\n",
      "625/625 [==============================] - 1s 1ms/step - loss: 0.3996 - accuracy: 0.8792 - val_loss: 0.5150 - val_accuracy: 0.8471\n",
      "Epoch 25/25\n",
      "625/625 [==============================] - 1s 1ms/step - loss: 0.3977 - accuracy: 0.8802 - val_loss: 0.5264 - val_accuracy: 0.8438\n"
     ]
    }
   ],
   "source": [
    "lr_model_01 = create_model(lr=.1)\n",
    "\n",
    "bt_01 = lr_model_01.fit(X_train, y_train,\n",
    "                     epochs=25,\n",
    "                     batch_size=128,\n",
    "                     validation_data=(X_test, y_test))"
   ]
  },
  {
   "cell_type": "code",
   "execution_count": 104,
   "metadata": {},
   "outputs": [
    {
     "name": "stdout",
     "output_type": "stream",
     "text": [
      "Epoch 1/25\n",
      "625/625 [==============================] - 1s 2ms/step - loss: 2.2954 - accuracy: 0.1655 - val_loss: 2.2485 - val_accuracy: 0.2137\n",
      "Epoch 2/25\n",
      "625/625 [==============================] - 1s 1ms/step - loss: 2.1975 - accuracy: 0.2595 - val_loss: 2.1408 - val_accuracy: 0.2910\n",
      "Epoch 3/25\n",
      "625/625 [==============================] - 1s 1ms/step - loss: 2.0734 - accuracy: 0.3283 - val_loss: 2.0030 - val_accuracy: 0.3589\n",
      "Epoch 4/25\n",
      "625/625 [==============================] - 1s 1ms/step - loss: 1.9277 - accuracy: 0.3939 - val_loss: 1.8538 - val_accuracy: 0.4273\n",
      "Epoch 5/25\n",
      "625/625 [==============================] - 1s 1ms/step - loss: 1.7799 - accuracy: 0.4548 - val_loss: 1.7106 - val_accuracy: 0.4800\n",
      "Epoch 6/25\n",
      "625/625 [==============================] - 1s 1ms/step - loss: 1.6425 - accuracy: 0.5027 - val_loss: 1.5812 - val_accuracy: 0.5214\n",
      "Epoch 7/25\n",
      "625/625 [==============================] - 1s 1ms/step - loss: 1.5236 - accuracy: 0.5400 - val_loss: 1.4730 - val_accuracy: 0.5529\n",
      "Epoch 8/25\n",
      "625/625 [==============================] - 1s 1ms/step - loss: 1.4274 - accuracy: 0.5664 - val_loss: 1.3865 - val_accuracy: 0.5753\n",
      "Epoch 9/25\n",
      "625/625 [==============================] - 1s 1ms/step - loss: 1.3513 - accuracy: 0.5863 - val_loss: 1.3185 - val_accuracy: 0.5934\n",
      "Epoch 10/25\n",
      "625/625 [==============================] - 1s 1ms/step - loss: 1.2915 - accuracy: 0.6030 - val_loss: 1.2647 - val_accuracy: 0.6082\n",
      "Epoch 11/25\n",
      "625/625 [==============================] - 1s 1ms/step - loss: 1.2436 - accuracy: 0.6170 - val_loss: 1.2208 - val_accuracy: 0.6217\n",
      "Epoch 12/25\n",
      "625/625 [==============================] - 1s 1ms/step - loss: 1.2038 - accuracy: 0.6305 - val_loss: 1.1837 - val_accuracy: 0.6338\n",
      "Epoch 13/25\n",
      "625/625 [==============================] - 1s 1ms/step - loss: 1.1695 - accuracy: 0.6410 - val_loss: 1.1511 - val_accuracy: 0.6450\n",
      "Epoch 14/25\n",
      "625/625 [==============================] - 1s 1ms/step - loss: 1.1394 - accuracy: 0.6510 - val_loss: 1.1222 - val_accuracy: 0.6562\n",
      "Epoch 15/25\n",
      "625/625 [==============================] - 1s 2ms/step - loss: 1.1124 - accuracy: 0.6601 - val_loss: 1.0963 - val_accuracy: 0.6676\n",
      "Epoch 16/25\n",
      "625/625 [==============================] - 1s 2ms/step - loss: 1.0881 - accuracy: 0.6688 - val_loss: 1.0728 - val_accuracy: 0.6747\n",
      "Epoch 17/25\n",
      "625/625 [==============================] - 1s 2ms/step - loss: 1.0662 - accuracy: 0.6765 - val_loss: 1.0517 - val_accuracy: 0.6814\n",
      "Epoch 18/25\n",
      "625/625 [==============================] - 1s 1ms/step - loss: 1.0466 - accuracy: 0.6832 - val_loss: 1.0327 - val_accuracy: 0.6881\n",
      "Epoch 19/25\n",
      "625/625 [==============================] - 1s 1ms/step - loss: 1.0288 - accuracy: 0.6893 - val_loss: 1.0160 - val_accuracy: 0.6949\n",
      "Epoch 20/25\n",
      "625/625 [==============================] - 1s 1ms/step - loss: 1.0129 - accuracy: 0.6953 - val_loss: 1.0003 - val_accuracy: 0.6998\n",
      "Epoch 21/25\n",
      "625/625 [==============================] - 1s 1ms/step - loss: 0.9985 - accuracy: 0.7008 - val_loss: 0.9866 - val_accuracy: 0.7046\n",
      "Epoch 22/25\n",
      "625/625 [==============================] - 1s 1ms/step - loss: 0.9854 - accuracy: 0.7055 - val_loss: 0.9740 - val_accuracy: 0.7082\n",
      "Epoch 23/25\n",
      "625/625 [==============================] - 1s 1ms/step - loss: 0.9735 - accuracy: 0.7090 - val_loss: 0.9626 - val_accuracy: 0.7106\n",
      "Epoch 24/25\n",
      "625/625 [==============================] - 1s 1ms/step - loss: 0.9627 - accuracy: 0.7128 - val_loss: 0.9525 - val_accuracy: 0.7140\n",
      "Epoch 25/25\n",
      "625/625 [==============================] - 1s 1ms/step - loss: 0.9529 - accuracy: 0.7159 - val_loss: 0.9431 - val_accuracy: 0.7169\n"
     ]
    }
   ],
   "source": [
    "lr_model_001 = create_model(lr=.001)\n",
    "\n",
    "bt_001 = lr_model_001.fit(X_train, y_train,\n",
    "                     epochs=25,\n",
    "                     batch_size=128,\n",
    "                     validation_data=(X_test, y_test))"
   ]
  },
  {
   "cell_type": "code",
   "execution_count": 105,
   "metadata": {},
   "outputs": [
    {
     "name": "stdout",
     "output_type": "stream",
     "text": [
      "Epoch 1/25\n",
      "625/625 [==============================] - 1s 1ms/step - loss: 2.3398 - accuracy: 0.0983 - val_loss: 2.3287 - val_accuracy: 0.1009\n",
      "Epoch 2/25\n",
      "625/625 [==============================] - 1s 1ms/step - loss: 2.3195 - accuracy: 0.1016 - val_loss: 2.3106 - val_accuracy: 0.1054\n",
      "Epoch 3/25\n",
      "625/625 [==============================] - 1s 1ms/step - loss: 2.3035 - accuracy: 0.1062 - val_loss: 2.2959 - val_accuracy: 0.1117\n",
      "Epoch 4/25\n",
      "625/625 [==============================] - 1s 1ms/step - loss: 2.2901 - accuracy: 0.1128 - val_loss: 2.2834 - val_accuracy: 0.1200\n",
      "Epoch 5/25\n",
      "625/625 [==============================] - 1s 1ms/step - loss: 2.2782 - accuracy: 0.1202 - val_loss: 2.2720 - val_accuracy: 0.1270\n",
      "Epoch 6/25\n",
      "625/625 [==============================] - 1s 1ms/step - loss: 2.2674 - accuracy: 0.1277 - val_loss: 2.2614 - val_accuracy: 0.1359\n",
      "Epoch 7/25\n",
      "625/625 [==============================] - 1s 1ms/step - loss: 2.2572 - accuracy: 0.1359 - val_loss: 2.2513 - val_accuracy: 0.1427\n",
      "Epoch 8/25\n",
      "625/625 [==============================] - 1s 1ms/step - loss: 2.2473 - accuracy: 0.1439 - val_loss: 2.2414 - val_accuracy: 0.1511\n",
      "Epoch 9/25\n",
      "625/625 [==============================] - 1s 1ms/step - loss: 2.2376 - accuracy: 0.1511 - val_loss: 2.2316 - val_accuracy: 0.1577\n",
      "Epoch 10/25\n",
      "625/625 [==============================] - 1s 1ms/step - loss: 2.2278 - accuracy: 0.1577 - val_loss: 2.2217 - val_accuracy: 0.1651\n",
      "Epoch 11/25\n",
      "625/625 [==============================] - 1s 1ms/step - loss: 2.2179 - accuracy: 0.1643 - val_loss: 2.2116 - val_accuracy: 0.1724\n",
      "Epoch 12/25\n",
      "625/625 [==============================] - 1s 1ms/step - loss: 2.2078 - accuracy: 0.1709 - val_loss: 2.2014 - val_accuracy: 0.1796\n",
      "Epoch 13/25\n",
      "625/625 [==============================] - 1s 1ms/step - loss: 2.1975 - accuracy: 0.1770 - val_loss: 2.1909 - val_accuracy: 0.1865\n",
      "Epoch 14/25\n",
      "625/625 [==============================] - 1s 1ms/step - loss: 2.1869 - accuracy: 0.1837 - val_loss: 2.1801 - val_accuracy: 0.1914\n",
      "Epoch 15/25\n",
      "625/625 [==============================] - 1s 1ms/step - loss: 2.1760 - accuracy: 0.1896 - val_loss: 2.1689 - val_accuracy: 0.1984\n",
      "Epoch 16/25\n",
      "625/625 [==============================] - 1s 1ms/step - loss: 2.1647 - accuracy: 0.1956 - val_loss: 2.1574 - val_accuracy: 0.2053\n",
      "Epoch 17/25\n",
      "625/625 [==============================] - 1s 1ms/step - loss: 2.1530 - accuracy: 0.2025 - val_loss: 2.1455 - val_accuracy: 0.2117\n",
      "Epoch 18/25\n",
      "625/625 [==============================] - 1s 1ms/step - loss: 2.1409 - accuracy: 0.2094 - val_loss: 2.1332 - val_accuracy: 0.2190\n",
      "Epoch 19/25\n",
      "625/625 [==============================] - 1s 1ms/step - loss: 2.1284 - accuracy: 0.2172 - val_loss: 2.1205 - val_accuracy: 0.2266\n",
      "Epoch 20/25\n",
      "625/625 [==============================] - 1s 1ms/step - loss: 2.1156 - accuracy: 0.2251 - val_loss: 2.1075 - val_accuracy: 0.2348\n",
      "Epoch 21/25\n",
      "625/625 [==============================] - 1s 1ms/step - loss: 2.1024 - accuracy: 0.2338 - val_loss: 2.0940 - val_accuracy: 0.2442\n",
      "Epoch 22/25\n",
      "625/625 [==============================] - 1s 1ms/step - loss: 2.0887 - accuracy: 0.2439 - val_loss: 2.0802 - val_accuracy: 0.2537\n",
      "Epoch 23/25\n",
      "625/625 [==============================] - 1s 2ms/step - loss: 2.0748 - accuracy: 0.2544 - val_loss: 2.0661 - val_accuracy: 0.2635\n",
      "Epoch 24/25\n",
      "625/625 [==============================] - 1s 2ms/step - loss: 2.0604 - accuracy: 0.2636 - val_loss: 2.0516 - val_accuracy: 0.2754\n",
      "Epoch 25/25\n",
      "625/625 [==============================] - 1s 2ms/step - loss: 2.0458 - accuracy: 0.2740 - val_loss: 2.0368 - val_accuracy: 0.2858\n"
     ]
    }
   ],
   "source": [
    "lr_model_0001 = create_model(lr=.0001)\n",
    "\n",
    "bt_0001 = lr_model_0001.fit(X_train, y_train,\n",
    "                     epochs=25,\n",
    "                     batch_size=128,\n",
    "                     validation_data=(X_test, y_test))"
   ]
  },
  {
   "cell_type": "code",
   "execution_count": 106,
   "metadata": {},
   "outputs": [
    {
     "name": "stdout",
     "output_type": "stream",
     "text": [
      "Epoch 1/25\n",
      "625/625 [==============================] - 1s 1ms/step - loss: 2.3262 - accuracy: 0.1164 - val_loss: 2.3244 - val_accuracy: 0.1168\n",
      "Epoch 2/25\n",
      "625/625 [==============================] - 1s 1ms/step - loss: 2.3237 - accuracy: 0.1165 - val_loss: 2.3221 - val_accuracy: 0.1166\n",
      "Epoch 3/25\n",
      "625/625 [==============================] - 1s 1ms/step - loss: 2.3214 - accuracy: 0.1169 - val_loss: 2.3198 - val_accuracy: 0.1168\n",
      "Epoch 4/25\n",
      "625/625 [==============================] - 1s 1ms/step - loss: 2.3191 - accuracy: 0.1169 - val_loss: 2.3176 - val_accuracy: 0.1172\n",
      "Epoch 5/25\n",
      "625/625 [==============================] - 1s 1ms/step - loss: 2.3169 - accuracy: 0.1172 - val_loss: 2.3155 - val_accuracy: 0.1176\n",
      "Epoch 6/25\n",
      "625/625 [==============================] - 1s 1ms/step - loss: 2.3148 - accuracy: 0.1174 - val_loss: 2.3134 - val_accuracy: 0.1178\n",
      "Epoch 7/25\n",
      "625/625 [==============================] - 1s 1ms/step - loss: 2.3127 - accuracy: 0.1177 - val_loss: 2.3113 - val_accuracy: 0.1177\n",
      "Epoch 8/25\n",
      "625/625 [==============================] - 1s 1ms/step - loss: 2.3106 - accuracy: 0.1179 - val_loss: 2.3094 - val_accuracy: 0.1183\n",
      "Epoch 9/25\n",
      "625/625 [==============================] - 1s 1ms/step - loss: 2.3087 - accuracy: 0.1182 - val_loss: 2.3074 - val_accuracy: 0.1191\n",
      "Epoch 10/25\n",
      "625/625 [==============================] - 1s 1ms/step - loss: 2.3067 - accuracy: 0.1186 - val_loss: 2.3055 - val_accuracy: 0.1193\n",
      "Epoch 11/25\n",
      "625/625 [==============================] - 1s 2ms/step - loss: 2.3048 - accuracy: 0.1189 - val_loss: 2.3037 - val_accuracy: 0.1194\n",
      "Epoch 12/25\n",
      "625/625 [==============================] - 1s 1ms/step - loss: 2.3030 - accuracy: 0.1193 - val_loss: 2.3019 - val_accuracy: 0.1196\n",
      "Epoch 13/25\n",
      "625/625 [==============================] - 1s 2ms/step - loss: 2.3012 - accuracy: 0.1197 - val_loss: 2.3001 - val_accuracy: 0.1199\n",
      "Epoch 14/25\n",
      "625/625 [==============================] - 1s 1ms/step - loss: 2.2994 - accuracy: 0.1201 - val_loss: 2.2984 - val_accuracy: 0.1202\n",
      "Epoch 15/25\n",
      "625/625 [==============================] - 1s 1ms/step - loss: 2.2977 - accuracy: 0.1204 - val_loss: 2.2967 - val_accuracy: 0.1205\n",
      "Epoch 16/25\n",
      "625/625 [==============================] - 1s 1ms/step - loss: 2.2960 - accuracy: 0.1207 - val_loss: 2.2951 - val_accuracy: 0.1212\n",
      "Epoch 17/25\n",
      "625/625 [==============================] - 1s 1ms/step - loss: 2.2944 - accuracy: 0.1211 - val_loss: 2.2935 - val_accuracy: 0.1217\n",
      "Epoch 18/25\n",
      "625/625 [==============================] - 1s 1ms/step - loss: 2.2928 - accuracy: 0.1214 - val_loss: 2.2919 - val_accuracy: 0.1223\n",
      "Epoch 19/25\n",
      "625/625 [==============================] - 1s 1ms/step - loss: 2.2912 - accuracy: 0.1219 - val_loss: 2.2903 - val_accuracy: 0.1233\n",
      "Epoch 20/25\n",
      "625/625 [==============================] - 1s 1ms/step - loss: 2.2896 - accuracy: 0.1225 - val_loss: 2.2887 - val_accuracy: 0.1237\n",
      "Epoch 21/25\n",
      "625/625 [==============================] - 1s 1ms/step - loss: 2.2880 - accuracy: 0.1228 - val_loss: 2.2872 - val_accuracy: 0.1241\n",
      "Epoch 22/25\n",
      "625/625 [==============================] - 1s 1ms/step - loss: 2.2865 - accuracy: 0.1233 - val_loss: 2.2857 - val_accuracy: 0.1242\n",
      "Epoch 23/25\n",
      "625/625 [==============================] - 1s 1ms/step - loss: 2.2850 - accuracy: 0.1240 - val_loss: 2.2843 - val_accuracy: 0.1243\n",
      "Epoch 24/25\n",
      "625/625 [==============================] - 1s 1ms/step - loss: 2.2835 - accuracy: 0.1245 - val_loss: 2.2828 - val_accuracy: 0.1249\n",
      "Epoch 25/25\n",
      "625/625 [==============================] - 1s 1ms/step - loss: 2.2821 - accuracy: 0.1252 - val_loss: 2.2814 - val_accuracy: 0.1251\n"
     ]
    }
   ],
   "source": [
    "lr_model_00001 = create_model(lr=.00001)\n",
    "\n",
    "bt_00001 = lr_model_00001.fit(X_train, y_train,\n",
    "                     epochs=25,\n",
    "                     batch_size=128,\n",
    "                     validation_data=(X_test, y_test))"
   ]
  },
  {
   "cell_type": "code",
   "execution_count": 107,
   "metadata": {},
   "outputs": [
    {
     "data": {
      "text/html": [
       "<div>\n",
       "<style scoped>\n",
       "    .dataframe tbody tr th:only-of-type {\n",
       "        vertical-align: middle;\n",
       "    }\n",
       "\n",
       "    .dataframe tbody tr th {\n",
       "        vertical-align: top;\n",
       "    }\n",
       "\n",
       "    .dataframe thead th {\n",
       "        text-align: right;\n",
       "    }\n",
       "</style>\n",
       "<table border=\"1\" class=\"dataframe\">\n",
       "  <thead>\n",
       "    <tr style=\"text-align: right;\">\n",
       "      <th></th>\n",
       "      <th>loss</th>\n",
       "      <th>accuracy</th>\n",
       "      <th>val_loss</th>\n",
       "      <th>val_accuracy</th>\n",
       "      <th>epoch</th>\n",
       "      <th>lr</th>\n",
       "    </tr>\n",
       "  </thead>\n",
       "  <tbody>\n",
       "    <tr>\n",
       "      <th>0</th>\n",
       "      <td>0.962535</td>\n",
       "      <td>0.688537</td>\n",
       "      <td>0.674672</td>\n",
       "      <td>0.79320</td>\n",
       "      <td>0</td>\n",
       "      <td>1_</td>\n",
       "    </tr>\n",
       "    <tr>\n",
       "      <th>1</th>\n",
       "      <td>0.677870</td>\n",
       "      <td>0.791700</td>\n",
       "      <td>0.687123</td>\n",
       "      <td>0.79220</td>\n",
       "      <td>1</td>\n",
       "      <td>1_</td>\n",
       "    </tr>\n",
       "    <tr>\n",
       "      <th>2</th>\n",
       "      <td>0.624492</td>\n",
       "      <td>0.808012</td>\n",
       "      <td>0.603476</td>\n",
       "      <td>0.81335</td>\n",
       "      <td>2</td>\n",
       "      <td>1_</td>\n",
       "    </tr>\n",
       "    <tr>\n",
       "      <th>3</th>\n",
       "      <td>0.589393</td>\n",
       "      <td>0.818500</td>\n",
       "      <td>0.609225</td>\n",
       "      <td>0.81480</td>\n",
       "      <td>3</td>\n",
       "      <td>1_</td>\n",
       "    </tr>\n",
       "    <tr>\n",
       "      <th>4</th>\n",
       "      <td>0.569476</td>\n",
       "      <td>0.824525</td>\n",
       "      <td>0.587259</td>\n",
       "      <td>0.82350</td>\n",
       "      <td>4</td>\n",
       "      <td>1_</td>\n",
       "    </tr>\n",
       "  </tbody>\n",
       "</table>\n",
       "</div>"
      ],
      "text/plain": [
       "       loss  accuracy  val_loss  val_accuracy  epoch  lr\n",
       "0  0.962535  0.688537  0.674672       0.79320      0  1_\n",
       "1  0.677870  0.791700  0.687123       0.79220      1  1_\n",
       "2  0.624492  0.808012  0.603476       0.81335      2  1_\n",
       "3  0.589393  0.818500  0.609225       0.81480      3  1_\n",
       "4  0.569476  0.824525  0.587259       0.82350      4  1_"
      ]
     },
     "execution_count": 107,
     "metadata": {},
     "output_type": "execute_result"
    }
   ],
   "source": [
    "batch_sizes = []\n",
    "\n",
    "for exp, result in zip([bt_1 ,bt_01 ,bt_001, bt_0001, bt_00001], [\"1_\", \".1_\", \".01_\",\".001_\",\".0001_\"]):\n",
    "\n",
    "  df = pd.DataFrame.from_dict(exp.history)\n",
    "  df['epoch'] = df.index.values\n",
    "  df['lr'] = result\n",
    "\n",
    "  batch_sizes.append(df)\n",
    "\n",
    "df = pd.concat(batch_sizes)\n",
    "df['lr'] = df['lr'].astype('str')\n",
    "df.head()"
   ]
  },
  {
   "cell_type": "code",
   "execution_count": 108,
   "metadata": {},
   "outputs": [
    {
     "data": {
      "text/plain": [
       "<AxesSubplot:xlabel='epoch', ylabel='val_accuracy'>"
      ]
     },
     "execution_count": 108,
     "metadata": {},
     "output_type": "execute_result"
    },
    {
     "data": {
      "image/png": "[encoded data removed]",
      "text/plain": [
       "<Figure size 432x288 with 1 Axes>"
      ]
     },
     "metadata": {
      "needs_background": "light"
     },
     "output_type": "display_data"
    }
   ],
   "source": [
    "sns.lineplot(x='epoch', y='val_accuracy', hue='lr', data=df)"
   ]
  },
  {
   "cell_type": "code",
   "execution_count": 109,
   "metadata": {},
   "outputs": [
    {
     "data": {
      "image/png": "[encoded data removed]",
      "text/plain": [
       "<Figure size 432x288 with 1 Axes>"
      ]
     },
     "metadata": {
      "needs_background": "light"
     },
     "output_type": "display_data"
    }
   ],
   "source": [
    "sns.lineplot(x='epoch', y='val_loss', hue='lr', data=df);"
   ]
  },
  {
   "cell_type": "markdown",
   "metadata": {
    "colab_type": "text",
    "id": "gxMtSRhV9Q7I"
   },
   "source": [
    "### Experiment with different Optimizers\n",
    "* Run 5 experiments with various optimizers available in TensorFlow. See list [here](https://www.tensorflow.org/api_docs/python/tf/keras/optimizers)\n",
    "* Visualize the results\n",
    "* Write up an analysis of the experiments and select the \"best\" performing model among your experiments. Make sure to compare against the previous experiments and your model's performance yesterday.\n",
    "* Repeat the experiment combining Learning Rate and different optimizers. Does the best performing model change? "
   ]
  },
  {
   "cell_type": "code",
   "execution_count": null,
   "metadata": {
    "colab": {},
    "colab_type": "code",
    "id": "ujLuzdNA91ip"
   },
   "outputs": [],
   "source": []
  },
  {
   "cell_type": "markdown",
   "metadata": {
    "colab_type": "text",
    "id": "ydAqeY9S8uHA"
   },
   "source": [
    "### Additional Written Tasks\n",
    "\n",
    "1. Describe the process of backpropagation in your own words: \n",
    "```\n",
    "Your answer goes here.\n",
    "```\n",
    "\n"
   ]
  },
  {
   "cell_type": "markdown",
   "metadata": {
    "colab_type": "text",
    "id": "FwlRJSfBlCvy"
   },
   "source": [
    "## Stretch Goals: \n",
    "\n",
    "- Implement GridSearch on anyone of the experiments\n",
    "- On the learning rate experiments, implement [EarlyStopping](https://www.tensorflow.org/api_docs/python/tf/keras/callbacks/EarlyStopping)\n",
    "- Review material on the math behind gradient descent: \n",
    "\n",
    "  - Gradient Descent\n",
    "    - Gradient Descent, Step-by-Step  by StatQuest w/ Josh Starmer. This will help you understand the gradient descent based optimization that happens underneath the hood of neural networks. It uses a non-neural network example, which I believe is a gentler introduction. You will hear me refer to this technique as \"vanilla\" gradient descent. \n",
    "    - Stochastic Gradient Descent, Clearly Explained!!! by StatQuest w/ Josh Starmer. This builds on the techniques in the previous video.  This technique is the one that is actually implemented inside modern 'nets. \n",
    "These are great resources to help you understand tomorrow's material at a deeper level. I highly recommend watching these ahead of tomorrow.\n",
    "\n",
    "  - Background Math\n",
    "    - Dot products and duality by 3Blue1Brown. Explains the core linear algebra operation happening in today's perceptron.\n",
    "The paradox of the derivative by 3Blue1Brown. Does a great job explaining a derivative. \n",
    "    - Visualizing the chain rule and product rule by 3Blue1Brown. Explains the black magic that happens within Stochastic Gradient Descent. \n",
    "These math resources are very much optional. They can be very heady, but I encourage you to explore. Your understanding of neural networks will greatly increase if you understand this math background.\n",
    "\n",
    "\n"
   ]
  }
 ],
 "metadata": {
  "colab": {
   "collapsed_sections": [],
   "name": "LS_DS_432_Train_Assignment.ipynb",
   "provenance": []
  },
  "kernelspec": {
   "display_name": "Python 3",
   "language": "python",
   "name": "python3"
  },
  "language_info": {
   "codemirror_mode": {
    "name": "ipython",
    "version": 3
   },
   "file_extension": ".py",
   "mimetype": "text/x-python",
   "name": "python",
   "nbconvert_exporter": "python",
   "pygments_lexer": "ipython3",
   "version": "3.7.0"
  },
  "nteract": {
   "version": "0.22.4"
  }
 },
 "nbformat": 4,
 "nbformat_minor": 4
}
