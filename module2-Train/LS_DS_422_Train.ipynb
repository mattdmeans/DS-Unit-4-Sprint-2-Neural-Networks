{
 "cells": [
  {
   "cell_type": "markdown",
   "metadata": {
    "colab_type": "text",
    "id": "aS4GZ37Wgcjr"
   },
   "source": [
    "Lambda School Data Science\n",
    "\n",
    "*Unit 4, Sprint 2, Module 2*\n",
    "\n",
    "---"
   ]
  },
  {
   "cell_type": "markdown",
   "metadata": {
    "colab_type": "text",
    "id": "etFf1WLWgcjt",
    "toc-hr-collapsed": false
   },
   "source": [
    "# Train (Prepare)\n",
    "__*Neural Network Foundations*__"
   ]
  },
  {
   "cell_type": "markdown",
   "metadata": {
    "colab_type": "text",
    "id": "hXB80QOhgcju"
   },
   "source": [
    "## Learning Objectives\n",
    "* <a href=\"#p1\">Part 1</a>: Student should be able to explain the intuition behind backpropagation and gradient descent\n",
    "* <a href=\"#p2\">Part 2</a>: Student should be able to discuss the importance of batch size\n",
    "* <a href=\"#p3\">Part 3</a>: Student should be able to discuss the importance of learning rate"
   ]
  },
  {
   "cell_type": "markdown",
   "metadata": {
    "colab_type": "text",
    "id": "8YuQu2lfgcju"
   },
   "source": [
    "## Summary of Yesterday\n",
    "\n",
    "Yesterday, we learned about some of the principal components of Neural Networks: Neurons, Weights, Activation Functions, and layers (input, output, & hidden). Today, we will reinforce our understanding of those components and introduce the mechanics of training a neural network. Feed-forward neural networks, such as multi-layer perceptrons (MLPs), are almost always trained using some variation of gradient descent where the gradient has been calculated by backpropagation.\n",
    "\n",
    "  <center><img src=\"https://raw.githubusercontent.com/LambdaSchool/DS-Unit-4-Sprint-2-Neural-Networks/main/module1-Architect/IMG_0167.jpeg\" width=400></center>\n",
    "\n",
    "- There are three kinds of layers: input, hidden, and output layers.\n",
    "- Each layer is made up of **n** individual neurons (aka activation units) which have a corresponding weight and bias.\n",
    "- Signal is passed from layer to layer through a network by:\n",
    " - Taking in inputs from the training data (or previous layer)\n",
    " - Multiplying each input by its corresponding weight (think arrow/connecting line)\n",
    " - Adding a bias to this weighted some of inputs and weights\n",
    " - Activating this weighted sum + bias by squishifying it with sigmoid or some other activation function. With a single perceptron with three inputs, calculating the output from the node is done like so:\n",
    "\\begin{align}\n",
    " y = sigmoid(\\sum(weight_{1}input_{1} + weight_{2}input_{2} + weight_{3}input_{3}) + bias)\n",
    "\\end{align}\n",
    " - this final activated value is the signal that gets passed onto the next layer of the network.\n",
    " "
   ]
  },
  {
   "cell_type": "markdown",
   "metadata": {
    "colab_type": "text",
    "id": "bpi4R03rgcjv"
   },
   "source": [
    "## Training a Neural Network: *Formal Summary*\n",
    "\n",
    "0. Pick a network architecture\n",
    "   - No. of input units = No. of features\n",
    "   - No. of output units = Number of Classes (or expected targets)\n",
    "   - Select the number of hidden layers and number of neurons within each hidden layer\n",
    "1. Randomly initialize weights\n",
    "2. Implement forward propagation to get $h_{\\theta}(x^{(i)})$ for any $x^{(i)}$\n",
    "3. Implement code to compute a cost function $J(\\theta)$\n",
    "4. Implement backpropagation to compute partial derivatives $\\frac{\\delta}{\\delta\\theta_{jk}^{l}}{J(\\theta)}$\n",
    "5. Use gradient descent (or other advanced optimizer) with backpropagation to minimize $J(\\theta)$ as a function of parameters $\\theta\\$\n",
    "6. Repeat steps 2 - 5 until cost function is 'minimized' or some other stopping criteria is met. One pass over steps 2 - 5 is called an iteration or epoch."
   ]
  },
  {
   "cell_type": "markdown",
   "metadata": {
    "colab_type": "text",
    "id": "aM4CK1IarId4",
    "toc-hr-collapsed": false
   },
   "source": [
    "# Backpropagation & Gradient Descent (Learn)\n",
    "<a id=\"p1\"></a>"
   ]
  },
  {
   "cell_type": "markdown",
   "metadata": {
    "colab_type": "text",
    "id": "Ktm8Fmoagcjy",
    "toc-hr-collapsed": true
   },
   "source": [
    "## Overview\n",
    "\n",
    "Backpropagation is short for [\"Backwards Propagation of errors\"](https://en.wikipedia.org/wiki/Backpropagation) and refers to a specific (rather calculus intensive) algorithm for how weights in a neural network are updated in reverse order at the end of each training epoch. Our purpose today is to demonstrate the backpropagation algorithm on a simple Feedforward Neural Network and in so doing help you get a grasp on the main process. If you want to understand all of the underlying calculus of how the gradients are calculated then you'll need to dive into it yourself, [3Blue1Brown's video is a great starting place](https://www.youtube.com/watch?v=tIeHLnjs5U8). I also highly recommend this Welch Labs series [Neural Networks Demystified](https://www.youtube.com/watch?v=bxe2T-V8XRs) if you want a rapid yet orderly walk through of the main intuitions and math behind the backpropagation algorithm. "
   ]
  },
  {
   "cell_type": "markdown",
   "metadata": {
    "colab_type": "text",
    "id": "NXI2tEO9gcjy"
   },
   "source": [
    "### What is a Gradient?\n",
    "\n",
    "> In vector calculus, the gradient is a multi-variable generalization of the derivative. \n",
    "\n",
    "The gradients that we will deal with today will be vector representations of the derivative of the activation function. "
   ]
  },
  {
   "cell_type": "markdown",
   "metadata": {
    "colab_type": "text",
    "id": "UZY66kiUgcjz",
    "toc-hr-collapsed": true
   },
   "source": [
    "## Follow Along\n",
    "\n",
    "In this section, we will again a simple neural network using base TensorFlow. We'll focus on using a __Feed Forward Neural Network__ to predict test scores. "
   ]
  },
  {
   "cell_type": "markdown",
   "metadata": {
    "colab_type": "text",
    "id": "Dm2HPETcrgy6",
    "toc-hr-collapsed": true
   },
   "source": [
    "<center><img src=\"https://raw.githubusercontent.com/LambdaSchool/DS-Unit-4-Sprint-2-Neural-Networks/main/module1-Architect/IMG_99C94113202D-1.jpeg\"width=500></center>"
   ]
  },
  {
   "cell_type": "markdown",
   "metadata": {
    "colab_type": "text",
    "id": "4d4tzpwO6B47"
   },
   "source": [
    "### Generate some Fake Data"
   ]
  },
  {
   "cell_type": "code",
   "execution_count": 1,
   "metadata": {
    "colab": {},
    "colab_type": "code",
    "id": "ERyVgeO_IWyV"
   },
   "outputs": [],
   "source": [
    "import tensorflow as tf\n",
    "\n",
    "# Imagine that our data is drawn from a linear function\n",
    "# y = 3*hours_studying + 50\n",
    "\n",
    "TRUE_W = 3.5\n",
    "TRUE_b = 50.0\n",
    "NUM_EXAMPLES = 1000\n",
    "\n",
    "inputs = tf.random.normal(shape=[NUM_EXAMPLES])\n",
    "noise = tf.random.normal(shape=[NUM_EXAMPLES])\n",
    "\n",
    "outputs = inputs * TRUE_W + TRUE_b + noise"
   ]
  },
  {
   "cell_type": "code",
   "execution_count": 3,
   "metadata": {},
   "outputs": [
    {
     "data": {
      "text/plain": [
       "<tf.Tensor: shape=(5,), dtype=float32, numpy=\n",
       "array([ 1.1645219, -0.9230742,  0.9653451, -1.3869109,  1.007285 ],\n",
       "      dtype=float32)>"
      ]
     },
     "execution_count": 3,
     "metadata": {},
     "output_type": "execute_result"
    }
   ],
   "source": [
    "inputs[:5]"
   ]
  },
  {
   "cell_type": "code",
   "execution_count": 4,
   "metadata": {},
   "outputs": [
    {
     "data": {
      "text/plain": [
       "<tf.Tensor: shape=(5,), dtype=float32, numpy=\n",
       "array([ 1.1476599 ,  0.06778358,  0.06153091, -0.27258825,  0.16531768],\n",
       "      dtype=float32)>"
      ]
     },
     "execution_count": 4,
     "metadata": {},
     "output_type": "execute_result"
    }
   ],
   "source": [
    "noise[:5]"
   ]
  },
  {
   "cell_type": "markdown",
   "metadata": {
    "colab_type": "text",
    "id": "bCJesGEUgcj4"
   },
   "source": [
    "### Loss Function\n",
    "Here we will use Mean Squared Error (MSE), because this is a regression problem. We are trying to predict a continuous target."
   ]
  },
  {
   "cell_type": "code",
   "execution_count": 5,
   "metadata": {
    "colab": {},
    "colab_type": "code",
    "id": "cDeUBW6k4Ri4"
   },
   "outputs": [],
   "source": [
    "def loss(target_y, predicted_y):\n",
    "  \"MSE\"\n",
    "  return tf.reduce_mean(tf.square(target_y - predicted_y))"
   ]
  },
  {
   "cell_type": "markdown",
   "metadata": {
    "colab_type": "text",
    "id": "bgTf6vTS69Sw"
   },
   "source": [
    "### Neural Network Architecture\n",
    "Lets create a Neural Network class called \"Model\" to contain this functionality. Note: This is essentially a linear regression whose coefficients are trained by gradient descent. In practice, gradient descent works on much more complex function like the multi-layer networks we constructed yesterday."
   ]
  },
  {
   "cell_type": "code",
   "execution_count": 6,
   "metadata": {
    "colab": {},
    "colab_type": "code",
    "id": "RUI8VSR5zyBv"
   },
   "outputs": [],
   "source": [
    "class Model(object):\n",
    "\n",
    "  def __init__(self):\n",
    "    self.W = tf.Variable(8.0)\n",
    "    self.b = tf.Variable(40.0)\n",
    "\n",
    "  def __call__(self, x):\n",
    "    return self.W * x + self.b\n",
    "\n",
    "model = Model()\n",
    "\n",
    "assert model(3.0).numpy() == 64.0"
   ]
  },
  {
   "cell_type": "markdown",
   "metadata": {
    "colab_type": "text",
    "id": "gbyT_FJ88IlK"
   },
   "source": [
    "### Initial Weights\n",
    "The initial weights in our model were arbitrary. In practice, weights are initialized randomly. "
   ]
  },
  {
   "cell_type": "code",
   "execution_count": 7,
   "metadata": {
    "colab": {
     "base_uri": "https://localhost:8080/",
     "height": 282
    },
    "colab_type": "code",
    "id": "IreIDe6P8H0H",
    "outputId": "5748f5e0-f66f-4dd1-b635-e852980d78a0"
   },
   "outputs": [
    {
     "data": {
      "image/png": "[encoded data removed]",
      "text/plain": [
       "<Figure size 432x288 with 1 Axes>"
      ]
     },
     "metadata": {
      "needs_background": "light"
     },
     "output_type": "display_data"
    },
    {
     "name": "stdout",
     "output_type": "stream",
     "text": [
      "Current loss: 125.934685\n"
     ]
    }
   ],
   "source": [
    "import matplotlib.pyplot as plt\n",
    "\n",
    "plt.scatter(inputs, outputs, c='b')\n",
    "plt.scatter(inputs, model(inputs), c='r')\n",
    "plt.show()\n",
    "\n",
    "print('Current loss: %1.6f' % loss(model(inputs), outputs).numpy())"
   ]
  },
  {
   "cell_type": "markdown",
   "metadata": {
    "colab_type": "text",
    "id": "16Ujj6vNYQyX",
    "toc-hr-collapsed": true
   },
   "source": [
    "### Update Weights Based on Gradient\n",
    "\n",
    "> *Assigning blame for bad predictions and delivering justice - repeatedly and a little bit at a time*\n",
    "\n",
    "You should also know that with neural networks it is common to have gradients that are not convex (like what we saw when we applied gradient descent to linear regression). \n",
    "\n",
    "Due to the high complexity of these models and their nonlinearity, it is common for gradient descent to get stuck in a local minimum, but there are ways to combat this:\n",
    "\n",
    "1) Stochastic Gradient Descent\n",
    "\n",
    "2) More advanced Gradient-Descent-based \"Optimizers\" - See Stretch Goals on assignment."
   ]
  },
  {
   "cell_type": "code",
   "execution_count": 8,
   "metadata": {
    "colab": {},
    "colab_type": "code",
    "id": "ZgaGD6YlHoid"
   },
   "outputs": [],
   "source": [
    " def train(model, inputs, outputs, learning_rate):\n",
    "  with tf.GradientTape() as t: \n",
    "     current_loss = loss(outputs, model(inputs))\n",
    "  dW, db = t.gradient(current_loss, [model.W, model.b])\n",
    "  model.W.assign_sub(learning_rate * dW)\n",
    "  model.b.assign_sub(learning_rate * db)"
   ]
  },
  {
   "cell_type": "markdown",
   "metadata": {
    "colab_type": "text",
    "id": "7iziWWURgck8"
   },
   "source": [
    "### Train the Network"
   ]
  },
  {
   "cell_type": "code",
   "execution_count": 9,
   "metadata": {
    "colab": {
     "base_uri": "https://localhost:8080/",
     "height": 190
    },
    "colab_type": "code",
    "id": "4zn_HgFuHhTr",
    "outputId": "9c11b92f-dace-4dcd-b771-71e436e854e6"
   },
   "outputs": [
    {
     "name": "stdout",
     "output_type": "stream",
     "text": [
      "Epoch  0: W=8.00 b=40.00 loss=125.93468\n",
      "Epoch  1: W=6.97 b=42.04 loss=78.98967\n",
      "Epoch  2: W=6.17 b=43.67 loss=49.71640\n",
      "Epoch  3: W=5.55 b=44.96 loss=31.45336\n",
      "Epoch  4: W=5.08 b=45.98 loss=20.05332\n",
      "Epoch  5: W=4.71 b=46.79 loss=12.93339\n",
      "Epoch  6: W=4.43 b=47.44 loss=8.48405\n",
      "Epoch  7: W=4.22 b=47.95 loss=5.70196\n",
      "Epoch  8: W=4.05 b=48.36 loss=3.96130\n",
      "Epoch  9: W=3.92 b=48.69 loss=2.87153\n"
     ]
    }
   ],
   "source": [
    "model = Model()\n",
    "\n",
    "# Store Some history of weights\n",
    "Ws, bs = [], []\n",
    "epochs = range(10)\n",
    "for epoch in epochs:\n",
    "  Ws.append(model.W.numpy())\n",
    "  bs.append(model.b.numpy())\n",
    "  current_loss = loss(outputs, model(inputs))\n",
    "\n",
    "  train(model, inputs, outputs, learning_rate=0.1)\n",
    "  print('Epoch %2d: W=%1.2f b=%1.2f loss=%2.5f' % (epoch, Ws[-1], bs[-1], current_loss))"
   ]
  },
  {
   "cell_type": "code",
   "execution_count": 10,
   "metadata": {
    "colab": {
     "base_uri": "https://localhost:8080/",
     "height": 265
    },
    "colab_type": "code",
    "id": "FSEt07wdHvi2",
    "outputId": "4c42b1a8-9dc9-4584-cb5e-9bde23ab2a44"
   },
   "outputs": [
    {
     "data": {
      "image/png": "[encoded data removed]",
      "text/plain": [
       "<Figure size 432x288 with 1 Axes>"
      ]
     },
     "metadata": {
      "needs_background": "light"
     },
     "output_type": "display_data"
    }
   ],
   "source": [
    "import matplotlib.pyplot as plt\n",
    "\n",
    "plt.plot(epochs, Ws, 'r', epochs, bs, 'b')\n",
    "plt.plot([TRUE_W] * len(epochs), 'r--',\n",
    "         [TRUE_b] * len(epochs), 'b--')\n",
    "plt.legend(['W', 'b', 'True W', 'True b'])\n",
    "plt.show()"
   ]
  },
  {
   "cell_type": "markdown",
   "metadata": {
    "colab_type": "text",
    "id": "iKUVGoRxgck_"
   },
   "source": [
    "## Challenge\n",
    "\n",
    "In the module project, you will be asked to explain the logic of backpropagation and gradient descent."
   ]
  },
  {
   "cell_type": "markdown",
   "metadata": {
    "colab_type": "text",
    "id": "vTqZg-6igclA",
    "toc-hr-collapsed": true
   },
   "source": [
    "# Batch Size (Learn)"
   ]
  },
  {
   "cell_type": "markdown",
   "metadata": {
    "colab_type": "text",
    "id": "0nrm-racgclA"
   },
   "source": [
    "## Overview\n",
    "\n",
    "The What - Stochastic Gradient Descent calculates an approximation of the gradient over the entire dataset by reviewing the predictions of a random sample. \n",
    "\n",
    "The Why - *Speed*. Calculating the gradient over the entire dataset is extremely expensive computationally. \n",
    "\n",
    "### Batch Size\n",
    "Batches are the number of observations our model is shown to make predictions and update the weights. Batches are selected randomly during epoch. All observations are considered when passing thru an epoch at some point.\n",
    "\n",
    "* Smaller Batch = Slower Run Time (but maybe more accurate results)\n",
    "* Default Batch = Balance between speed and accuracy\n",
    "* Large Batch = Very fast, but not nearly as accurate."
   ]
  },
  {
   "cell_type": "markdown",
   "metadata": {
    "colab_type": "text",
    "id": "oNQ2ZCi7I4i6"
   },
   "source": [
    "### Baseline Model"
   ]
  },
  {
   "cell_type": "code",
   "execution_count": 11,
   "metadata": {
    "colab": {},
    "colab_type": "code",
    "id": "mZjW2lYVI9Q2"
   },
   "outputs": [
    {
     "name": "stdout",
     "output_type": "stream",
     "text": [
      "Downloading data from https://storage.googleapis.com/tensorflow/tf-keras-datasets/mnist.npz\n",
      "11493376/11490434 [==============================] - 0s 0us/step\n"
     ]
    }
   ],
   "source": [
    "from tensorflow.keras.datasets import mnist\n",
    "\n",
    "(X_train, y_train), (X_test, y_test) = mnist.load_data()\n",
    "\n",
    "X_train = X_train / 255.\n",
    "X_test = X_test / 255.\n",
    "\n",
    "X_train = X_train.reshape((60000, 784))\n",
    "X_test = X_test.reshape((10000, 784))"
   ]
  },
  {
   "cell_type": "code",
   "execution_count": 12,
   "metadata": {
    "colab": {},
    "colab_type": "code",
    "id": "o7x17kDKJSy5"
   },
   "outputs": [],
   "source": [
    "# Our Model\n",
    "\n",
    "from tensorflow.keras import Sequential\n",
    "from tensorflow.keras.layers import Dense\n",
    "from tensorflow.keras.optimizers import SGD\n",
    "\n",
    "def create_model(lr=.01):\n",
    "  opt = SGD(learning_rate=lr)\n",
    "\n",
    "  model = Sequential(\n",
    "      [\n",
    "       Dense(32, activation='relu', input_dim=784),\n",
    "       Dense(32, activation='relu'),\n",
    "       Dense(10, activation='softmax')       \n",
    "      ]\n",
    ")\n",
    "  model.compile(optimizer=opt, loss='sparse_categorical_crossentropy',\n",
    "                metrics=['accuracy'])\n",
    "  return model"
   ]
  },
  {
   "cell_type": "code",
   "execution_count": 14,
   "metadata": {},
   "outputs": [],
   "source": [
    "mnist_model = create_model()\n",
    "dir(mnist_model);"
   ]
  },
  {
   "cell_type": "code",
   "execution_count": 15,
   "metadata": {},
   "outputs": [
    {
     "name": "stdout",
     "output_type": "stream",
     "text": [
      "Model: \"sequential_1\"\n",
      "_________________________________________________________________\n",
      "Layer (type)                 Output Shape              Param #   \n",
      "=================================================================\n",
      "dense_3 (Dense)              (None, 32)                25120     \n",
      "_________________________________________________________________\n",
      "dense_4 (Dense)              (None, 32)                1056      \n",
      "_________________________________________________________________\n",
      "dense_5 (Dense)              (None, 10)                330       \n",
      "=================================================================\n",
      "Total params: 26,506\n",
      "Trainable params: 26,506\n",
      "Non-trainable params: 0\n",
      "_________________________________________________________________\n"
     ]
    }
   ],
   "source": [
    "mnist_model.summary()"
   ]
  },
  {
   "cell_type": "code",
   "execution_count": 16,
   "metadata": {},
   "outputs": [
    {
     "data": {
      "text/plain": [
       "25088"
      ]
     },
     "execution_count": 16,
     "metadata": {},
     "output_type": "execute_result"
    }
   ],
   "source": [
    "32*784 # Pretty close parameters including bias"
   ]
  },
  {
   "cell_type": "markdown",
   "metadata": {
    "colab_type": "text",
    "id": "ZF7UE-KluPsX"
   },
   "source": [
    "## Follow Along\n",
    "Let's run a series of experiments for a default, small, and large batch size."
   ]
  },
  {
   "cell_type": "markdown",
   "metadata": {
    "colab_type": "text",
    "id": "VhpDaVFRJl3U"
   },
   "source": [
    "### Default\n",
    "Batch Size is 32"
   ]
  },
  {
   "cell_type": "code",
   "execution_count": 1,
   "metadata": {
    "colab": {},
    "colab_type": "code",
    "id": "P-ChVGikgclD"
   },
   "outputs": [
    {
     "ename": "NameError",
     "evalue": "name 'create_model' is not defined",
     "output_type": "error",
     "traceback": [
      "\u001b[0;31m---------------------------------------------------------------------------\u001b[0m",
      "\u001b[0;31mNameError\u001b[0m                                 Traceback (most recent call last)",
      "\u001b[0;32m<ipython-input-1-0f9426a35926>\u001b[0m in \u001b[0;36m<module>\u001b[0;34m\u001b[0m\n\u001b[0;32m----> 1\u001b[0;31m \u001b[0mmnist_model_32\u001b[0m \u001b[0;34m=\u001b[0m \u001b[0mcreate_model\u001b[0m\u001b[0;34m(\u001b[0m\u001b[0;34m)\u001b[0m\u001b[0;34m\u001b[0m\u001b[0m\n\u001b[0m\u001b[1;32m      2\u001b[0m \u001b[0;34m\u001b[0m\u001b[0m\n\u001b[1;32m      3\u001b[0m bt_default = mnist_model_32.fit(X_train, y_train,\n\u001b[1;32m      4\u001b[0m                                 \u001b[0;31m# Hyperparameters!\u001b[0m\u001b[0;34m\u001b[0m\u001b[0;34m\u001b[0m\u001b[0m\n\u001b[1;32m      5\u001b[0m                                 \u001b[0mepochs\u001b[0m\u001b[0;34m=\u001b[0m\u001b[0;36m25\u001b[0m\u001b[0;34m,\u001b[0m\u001b[0;34m\u001b[0m\u001b[0m\n",
      "\u001b[0;31mNameError\u001b[0m: name 'create_model' is not defined"
     ]
    }
   ],
   "source": [
    "mnist_model_32 = create_model()\n",
    "\n",
    "bt_default = mnist_model_32.fit(X_train, y_train,\n",
    "                                # Hyperparameters!\n",
    "                                epochs=25,\n",
    "                                batch_size=32,\n",
    "                                validation_data=(X_test, y_test))"
   ]
  },
  {
   "cell_type": "markdown",
   "metadata": {
    "colab_type": "text",
    "id": "KvsbOFnDJuG0"
   },
   "source": [
    "### Small Batch Size\n",
    "Batch Size is 8"
   ]
  },
  {
   "cell_type": "code",
   "execution_count": 18,
   "metadata": {
    "colab": {},
    "colab_type": "code",
    "id": "diDzvb-UJ1je"
   },
   "outputs": [
    {
     "name": "stdout",
     "output_type": "stream",
     "text": [
      "Epoch 1/25\n",
      "7500/7500 [==============================] - 6s 738us/step - loss: 0.4050 - accuracy: 0.8853 - val_loss: 0.2424 - val_accuracy: 0.9251\n",
      "Epoch 2/25\n",
      "7500/7500 [==============================] - 5s 708us/step - loss: 0.2181 - accuracy: 0.9357 - val_loss: 0.2001 - val_accuracy: 0.9381\n",
      "Epoch 3/25\n",
      "7500/7500 [==============================] - 6s 762us/step - loss: 0.1731 - accuracy: 0.9481 - val_loss: 0.1585 - val_accuracy: 0.9525\n",
      "Epoch 4/25\n",
      "7500/7500 [==============================] - 6s 748us/step - loss: 0.1472 - accuracy: 0.9556 - val_loss: 0.1350 - val_accuracy: 0.9571\n",
      "Epoch 5/25\n",
      "7500/7500 [==============================] - 6s 822us/step - loss: 0.1292 - accuracy: 0.9609 - val_loss: 0.1352 - val_accuracy: 0.9585\n",
      "Epoch 6/25\n",
      "7500/7500 [==============================] - 6s 862us/step - loss: 0.1163 - accuracy: 0.9650 - val_loss: 0.1328 - val_accuracy: 0.9567\n",
      "Epoch 7/25\n",
      "7500/7500 [==============================] - 7s 921us/step - loss: 0.1054 - accuracy: 0.9683 - val_loss: 0.1267 - val_accuracy: 0.9608\n",
      "Epoch 8/25\n",
      "7500/7500 [==============================] - 6s 823us/step - loss: 0.0962 - accuracy: 0.9706 - val_loss: 0.1218 - val_accuracy: 0.9637\n",
      "Epoch 9/25\n",
      "7500/7500 [==============================] - 6s 779us/step - loss: 0.0897 - accuracy: 0.9727 - val_loss: 0.1185 - val_accuracy: 0.9625\n",
      "Epoch 10/25\n",
      "7500/7500 [==============================] - 6s 739us/step - loss: 0.0834 - accuracy: 0.9740 - val_loss: 0.1228 - val_accuracy: 0.9629\n",
      "Epoch 11/25\n",
      "7500/7500 [==============================] - 6s 750us/step - loss: 0.0773 - accuracy: 0.9761 - val_loss: 0.1111 - val_accuracy: 0.9684\n",
      "Epoch 12/25\n",
      "7500/7500 [==============================] - 6s 744us/step - loss: 0.0733 - accuracy: 0.9776 - val_loss: 0.1112 - val_accuracy: 0.9652\n",
      "Epoch 13/25\n",
      "7500/7500 [==============================] - 6s 784us/step - loss: 0.0692 - accuracy: 0.9785 - val_loss: 0.1088 - val_accuracy: 0.9675\n",
      "Epoch 14/25\n",
      "7500/7500 [==============================] - 6s 742us/step - loss: 0.0644 - accuracy: 0.9793 - val_loss: 0.1121 - val_accuracy: 0.9663\n",
      "Epoch 15/25\n",
      "7500/7500 [==============================] - 5s 728us/step - loss: 0.0616 - accuracy: 0.9805 - val_loss: 0.1075 - val_accuracy: 0.9685\n",
      "Epoch 16/25\n",
      "7500/7500 [==============================] - 6s 775us/step - loss: 0.0573 - accuracy: 0.9823 - val_loss: 0.1144 - val_accuracy: 0.9672\n",
      "Epoch 17/25\n",
      "7500/7500 [==============================] - 6s 755us/step - loss: 0.0560 - accuracy: 0.9824 - val_loss: 0.1115 - val_accuracy: 0.9672\n",
      "Epoch 18/25\n",
      "7500/7500 [==============================] - 5s 729us/step - loss: 0.0517 - accuracy: 0.9837 - val_loss: 0.1069 - val_accuracy: 0.9697\n",
      "Epoch 19/25\n",
      "7500/7500 [==============================] - 8s 1ms/step - loss: 0.0497 - accuracy: 0.9842 - val_loss: 0.1065 - val_accuracy: 0.9694\n",
      "Epoch 20/25\n",
      "7500/7500 [==============================] - 10s 1ms/step - loss: 0.0475 - accuracy: 0.9842 - val_loss: 0.1148 - val_accuracy: 0.9677\n",
      "Epoch 21/25\n",
      "7500/7500 [==============================] - 11s 2ms/step - loss: 0.0455 - accuracy: 0.9853 - val_loss: 0.1166 - val_accuracy: 0.9660\n",
      "Epoch 22/25\n",
      "7500/7500 [==============================] - 7s 870us/step - loss: 0.0433 - accuracy: 0.9863 - val_loss: 0.1025 - val_accuracy: 0.9697\n",
      "Epoch 23/25\n",
      "7500/7500 [==============================] - 6s 845us/step - loss: 0.0421 - accuracy: 0.9862 - val_loss: 0.1099 - val_accuracy: 0.9688\n",
      "Epoch 24/25\n",
      "7500/7500 [==============================] - 7s 933us/step - loss: 0.0391 - accuracy: 0.9874 - val_loss: 0.1108 - val_accuracy: 0.9697\n",
      "Epoch 25/25\n",
      "7500/7500 [==============================] - 6s 860us/step - loss: 0.0382 - accuracy: 0.9879 - val_loss: 0.1142 - val_accuracy: 0.9687\n"
     ]
    }
   ],
   "source": [
    "mnist_model_8 = create_model()\n",
    "\n",
    "bt_small = mnist_model_8.fit(X_train, y_train,\n",
    "                             # Hyperparameters!\n",
    "                             epochs=25,\n",
    "                             batch_size=8,\n",
    "                             validation_data=(X_test, y_test))"
   ]
  },
  {
   "cell_type": "markdown",
   "metadata": {
    "colab_type": "text",
    "id": "_iPvvvt5J2Xl"
   },
   "source": [
    "### Large Batch Size\n",
    "Batch Size is 512"
   ]
  },
  {
   "cell_type": "code",
   "execution_count": 19,
   "metadata": {
    "colab": {},
    "colab_type": "code",
    "id": "7h8Z5293KABT"
   },
   "outputs": [
    {
     "name": "stdout",
     "output_type": "stream",
     "text": [
      "Epoch 1/25\n",
      "118/118 [==============================] - 1s 6ms/step - loss: 2.1878 - accuracy: 0.2506 - val_loss: 2.0073 - val_accuracy: 0.3825\n",
      "Epoch 2/25\n",
      "118/118 [==============================] - 0s 2ms/step - loss: 1.7913 - accuracy: 0.5143 - val_loss: 1.5247 - val_accuracy: 0.6314\n",
      "Epoch 3/25\n",
      "118/118 [==============================] - 0s 2ms/step - loss: 1.3236 - accuracy: 0.6875 - val_loss: 1.1049 - val_accuracy: 0.7329\n",
      "Epoch 4/25\n",
      "118/118 [==============================] - 0s 2ms/step - loss: 0.9913 - accuracy: 0.7587 - val_loss: 0.8522 - val_accuracy: 0.7894\n",
      "Epoch 5/25\n",
      "118/118 [==============================] - 0s 2ms/step - loss: 0.7912 - accuracy: 0.8014 - val_loss: 0.6972 - val_accuracy: 0.8253\n",
      "Epoch 6/25\n",
      "118/118 [==============================] - 0s 2ms/step - loss: 0.6648 - accuracy: 0.8289 - val_loss: 0.5972 - val_accuracy: 0.8471\n",
      "Epoch 7/25\n",
      "118/118 [==============================] - 0s 2ms/step - loss: 0.5815 - accuracy: 0.8458 - val_loss: 0.5296 - val_accuracy: 0.8613\n",
      "Epoch 8/25\n",
      "118/118 [==============================] - 0s 2ms/step - loss: 0.5245 - accuracy: 0.8582 - val_loss: 0.4822 - val_accuracy: 0.8728\n",
      "Epoch 9/25\n",
      "118/118 [==============================] - 0s 3ms/step - loss: 0.4835 - accuracy: 0.8678 - val_loss: 0.4486 - val_accuracy: 0.8797\n",
      "Epoch 10/25\n",
      "118/118 [==============================] - 0s 3ms/step - loss: 0.4532 - accuracy: 0.8751 - val_loss: 0.4239 - val_accuracy: 0.8826\n",
      "Epoch 11/25\n",
      "118/118 [==============================] - 0s 2ms/step - loss: 0.4298 - accuracy: 0.8804 - val_loss: 0.4038 - val_accuracy: 0.8894\n",
      "Epoch 12/25\n",
      "118/118 [==============================] - 0s 3ms/step - loss: 0.4112 - accuracy: 0.8846 - val_loss: 0.3867 - val_accuracy: 0.8927\n",
      "Epoch 13/25\n",
      "118/118 [==============================] - 0s 3ms/step - loss: 0.3958 - accuracy: 0.8891 - val_loss: 0.3734 - val_accuracy: 0.8964\n",
      "Epoch 14/25\n",
      "118/118 [==============================] - 0s 3ms/step - loss: 0.3835 - accuracy: 0.8918 - val_loss: 0.3637 - val_accuracy: 0.8984\n",
      "Epoch 15/25\n",
      "118/118 [==============================] - 0s 2ms/step - loss: 0.3729 - accuracy: 0.8943 - val_loss: 0.3541 - val_accuracy: 0.9007\n",
      "Epoch 16/25\n",
      "118/118 [==============================] - 0s 2ms/step - loss: 0.3637 - accuracy: 0.8968 - val_loss: 0.3468 - val_accuracy: 0.9033\n",
      "Epoch 17/25\n",
      "118/118 [==============================] - 0s 2ms/step - loss: 0.3556 - accuracy: 0.8990 - val_loss: 0.3387 - val_accuracy: 0.9049\n",
      "Epoch 18/25\n",
      "118/118 [==============================] - 0s 2ms/step - loss: 0.3485 - accuracy: 0.9008 - val_loss: 0.3329 - val_accuracy: 0.9063\n",
      "Epoch 19/25\n",
      "118/118 [==============================] - 0s 3ms/step - loss: 0.3422 - accuracy: 0.9023 - val_loss: 0.3276 - val_accuracy: 0.9082\n",
      "Epoch 20/25\n",
      "118/118 [==============================] - 0s 2ms/step - loss: 0.3364 - accuracy: 0.9041 - val_loss: 0.3217 - val_accuracy: 0.9092\n",
      "Epoch 21/25\n",
      "118/118 [==============================] - 0s 2ms/step - loss: 0.3311 - accuracy: 0.9050 - val_loss: 0.3174 - val_accuracy: 0.9101\n",
      "Epoch 22/25\n",
      "118/118 [==============================] - 0s 2ms/step - loss: 0.3262 - accuracy: 0.9064 - val_loss: 0.3140 - val_accuracy: 0.9110\n",
      "Epoch 23/25\n",
      "118/118 [==============================] - 0s 2ms/step - loss: 0.3218 - accuracy: 0.9075 - val_loss: 0.3103 - val_accuracy: 0.9125\n",
      "Epoch 24/25\n",
      "118/118 [==============================] - 0s 2ms/step - loss: 0.3176 - accuracy: 0.9090 - val_loss: 0.3051 - val_accuracy: 0.9149\n",
      "Epoch 25/25\n",
      "118/118 [==============================] - 0s 2ms/step - loss: 0.3136 - accuracy: 0.9101 - val_loss: 0.3020 - val_accuracy: 0.9151\n"
     ]
    }
   ],
   "source": [
    "mnist_model_512 = create_model()\n",
    "\n",
    "bt_large = mnist_model_512.fit(X_train, y_train,\n",
    "                               # Hyperparameters!\n",
    "                               epochs=25,\n",
    "                               batch_size=512,\n",
    "                               validation_data=(X_test, y_test))"
   ]
  },
  {
   "cell_type": "markdown",
   "metadata": {
    "colab_type": "text",
    "id": "B0ujUz6BKUGz"
   },
   "source": [
    "### Visualization of Results"
   ]
  },
  {
   "cell_type": "code",
   "execution_count": 20,
   "metadata": {
    "colab": {},
    "colab_type": "code",
    "id": "o-5DOZNMKYt-"
   },
   "outputs": [
    {
     "data": {
      "text/html": [
       "<div>\n",
       "<style scoped>\n",
       "    .dataframe tbody tr th:only-of-type {\n",
       "        vertical-align: middle;\n",
       "    }\n",
       "\n",
       "    .dataframe tbody tr th {\n",
       "        vertical-align: top;\n",
       "    }\n",
       "\n",
       "    .dataframe thead th {\n",
       "        text-align: right;\n",
       "    }\n",
       "</style>\n",
       "<table border=\"1\" class=\"dataframe\">\n",
       "  <thead>\n",
       "    <tr style=\"text-align: right;\">\n",
       "      <th></th>\n",
       "      <th>loss</th>\n",
       "      <th>accuracy</th>\n",
       "      <th>val_loss</th>\n",
       "      <th>val_accuracy</th>\n",
       "      <th>epoch</th>\n",
       "      <th>Batch Size</th>\n",
       "    </tr>\n",
       "  </thead>\n",
       "  <tbody>\n",
       "    <tr>\n",
       "      <th>0</th>\n",
       "      <td>0.752477</td>\n",
       "      <td>0.786917</td>\n",
       "      <td>0.351021</td>\n",
       "      <td>0.8991</td>\n",
       "      <td>0</td>\n",
       "      <td>32_</td>\n",
       "    </tr>\n",
       "    <tr>\n",
       "      <th>1</th>\n",
       "      <td>0.332112</td>\n",
       "      <td>0.904217</td>\n",
       "      <td>0.290459</td>\n",
       "      <td>0.9153</td>\n",
       "      <td>1</td>\n",
       "      <td>32_</td>\n",
       "    </tr>\n",
       "    <tr>\n",
       "      <th>2</th>\n",
       "      <td>0.287704</td>\n",
       "      <td>0.916417</td>\n",
       "      <td>0.257454</td>\n",
       "      <td>0.9271</td>\n",
       "      <td>2</td>\n",
       "      <td>32_</td>\n",
       "    </tr>\n",
       "    <tr>\n",
       "      <th>3</th>\n",
       "      <td>0.257453</td>\n",
       "      <td>0.925550</td>\n",
       "      <td>0.241210</td>\n",
       "      <td>0.9315</td>\n",
       "      <td>3</td>\n",
       "      <td>32_</td>\n",
       "    </tr>\n",
       "    <tr>\n",
       "      <th>4</th>\n",
       "      <td>0.233390</td>\n",
       "      <td>0.932833</td>\n",
       "      <td>0.215115</td>\n",
       "      <td>0.9373</td>\n",
       "      <td>4</td>\n",
       "      <td>32_</td>\n",
       "    </tr>\n",
       "  </tbody>\n",
       "</table>\n",
       "</div>"
      ],
      "text/plain": [
       "       loss  accuracy  val_loss  val_accuracy  epoch Batch Size\n",
       "0  0.752477  0.786917  0.351021        0.8991      0        32_\n",
       "1  0.332112  0.904217  0.290459        0.9153      1        32_\n",
       "2  0.287704  0.916417  0.257454        0.9271      2        32_\n",
       "3  0.257453  0.925550  0.241210        0.9315      3        32_\n",
       "4  0.233390  0.932833  0.215115        0.9373      4        32_"
      ]
     },
     "execution_count": 20,
     "metadata": {},
     "output_type": "execute_result"
    }
   ],
   "source": [
    "import seaborn as sns\n",
    "import pandas as pd\n",
    "\n",
    "batch_sizes = []\n",
    "\n",
    "for exp, result in zip([bt_default, bt_small, bt_large], [\"32_\", \"8_\", \"512_\"]):\n",
    "\n",
    "  df = pd.DataFrame.from_dict(exp.history)\n",
    "  df['epoch'] = df.index.values\n",
    "  df['Batch Size'] = result\n",
    "\n",
    "  batch_sizes.append(df)\n",
    "\n",
    "df = pd.concat(batch_sizes)\n",
    "df['Batch Size'] = df['Batch Size'].astype('str')\n",
    "df.head()"
   ]
  },
  {
   "cell_type": "code",
   "execution_count": 22,
   "metadata": {},
   "outputs": [
    {
     "data": {
      "image/png": "[encoded data removed]",
      "text/plain": [
       "<Figure size 432x288 with 1 Axes>"
      ]
     },
     "metadata": {
      "needs_background": "light"
     },
     "output_type": "display_data"
    }
   ],
   "source": [
    "sns.lineplot(x='epoch', y='val_accuracy', hue='Batch Size', data=df);"
   ]
  },
  {
   "cell_type": "code",
   "execution_count": 23,
   "metadata": {},
   "outputs": [
    {
     "data": {
      "image/png": "[encoded data removed]",
      "text/plain": [
       "<Figure size 432x288 with 1 Axes>"
      ]
     },
     "metadata": {
      "needs_background": "light"
     },
     "output_type": "display_data"
    }
   ],
   "source": [
    "sns.lineplot(x='epoch', y='val_loss', hue='Batch Size', data=df);"
   ]
  },
  {
   "cell_type": "code",
   "execution_count": null,
   "metadata": {},
   "outputs": [],
   "source": []
  },
  {
   "cell_type": "markdown",
   "metadata": {
    "colab_type": "text",
    "id": "4kZ2vUYYgclS"
   },
   "source": [
    "## Challenge\n",
    "\n",
    "You will be expected to experiment with batch size on today's assignment."
   ]
  },
  {
   "cell_type": "markdown",
   "metadata": {
    "colab_type": "text",
    "id": "46cP9Pm_gclS"
   },
   "source": [
    "# Learning Rate (Learn)"
   ]
  },
  {
   "cell_type": "markdown",
   "metadata": {
    "colab_type": "text",
    "id": "Bna67ADZgclT",
    "toc-hr-collapsed": true
   },
   "source": [
    "## Overview\n",
    "\n",
    "Learning Rate controls the size of the update to our weights that the optimization algorithm makes. VERY IMPORTANT hyperparameter.\n",
    "\n",
    "* Too high of a learning rate causes unstable results\n",
    "* Too Low of a learning rate the model will underfit\n",
    "* Goldy Locks parameters - it needs be \"just right\"\n",
    "* Scale of 0-1"
   ]
  },
  {
   "cell_type": "markdown",
   "metadata": {
    "colab_type": "text",
    "id": "gsVYOn7bgcle",
    "toc-hr-collapsed": true
   },
   "source": [
    "## Follow Along\n",
    "\n",
    "Same experiment with Batch but different learning rates:\n",
    "* High Learning = .75\n",
    "* Default Learning = .01\n",
    "* Low Learning Rate = .0001"
   ]
  },
  {
   "cell_type": "markdown",
   "metadata": {
    "colab_type": "text",
    "id": "CI_H8Em1NOii"
   },
   "source": [
    "### Default Learning Rate"
   ]
  },
  {
   "cell_type": "code",
   "execution_count": 25,
   "metadata": {
    "colab": {},
    "colab_type": "code",
    "id": "Se8cb_ZUNVtL"
   },
   "outputs": [
    {
     "name": "stdout",
     "output_type": "stream",
     "text": [
      "Epoch 1/25\n",
      "1875/1875 [==============================] - 2s 855us/step - loss: 0.8066 - accuracy: 0.7836 - val_loss: 0.3654 - val_accuracy: 0.8954\n",
      "Epoch 2/25\n",
      "1875/1875 [==============================] - 2s 808us/step - loss: 0.3395 - accuracy: 0.9022 - val_loss: 0.3010 - val_accuracy: 0.9146\n",
      "Epoch 3/25\n",
      "1875/1875 [==============================] - 2s 852us/step - loss: 0.2907 - accuracy: 0.9161 - val_loss: 0.2681 - val_accuracy: 0.9216\n",
      "Epoch 4/25\n",
      "1875/1875 [==============================] - 2s 939us/step - loss: 0.2590 - accuracy: 0.9263 - val_loss: 0.2416 - val_accuracy: 0.9281\n",
      "Epoch 5/25\n",
      "1875/1875 [==============================] - 2s 890us/step - loss: 0.2350 - accuracy: 0.9327 - val_loss: 0.2287 - val_accuracy: 0.9318\n",
      "Epoch 6/25\n",
      "1875/1875 [==============================] - 2s 908us/step - loss: 0.2156 - accuracy: 0.9388 - val_loss: 0.2103 - val_accuracy: 0.9375\n",
      "Epoch 7/25\n",
      "1875/1875 [==============================] - 2s 887us/step - loss: 0.2001 - accuracy: 0.9418 - val_loss: 0.1954 - val_accuracy: 0.9413\n",
      "Epoch 8/25\n",
      "1875/1875 [==============================] - 2s 848us/step - loss: 0.1862 - accuracy: 0.9463 - val_loss: 0.1875 - val_accuracy: 0.9449\n",
      "Epoch 9/25\n",
      "1875/1875 [==============================] - 2s 906us/step - loss: 0.1756 - accuracy: 0.9494 - val_loss: 0.1758 - val_accuracy: 0.9476\n",
      "Epoch 10/25\n",
      "1875/1875 [==============================] - 2s 866us/step - loss: 0.1663 - accuracy: 0.9518 - val_loss: 0.1686 - val_accuracy: 0.9501\n",
      "Epoch 11/25\n",
      "1875/1875 [==============================] - 2s 843us/step - loss: 0.1583 - accuracy: 0.9547 - val_loss: 0.1636 - val_accuracy: 0.9498\n",
      "Epoch 12/25\n",
      "1875/1875 [==============================] - 2s 896us/step - loss: 0.1513 - accuracy: 0.9569 - val_loss: 0.1612 - val_accuracy: 0.9518\n",
      "Epoch 13/25\n",
      "1875/1875 [==============================] - 2s 897us/step - loss: 0.1443 - accuracy: 0.9585 - val_loss: 0.1507 - val_accuracy: 0.9546\n",
      "Epoch 14/25\n",
      "1875/1875 [==============================] - 5s 3ms/step - loss: 0.1384 - accuracy: 0.9601 - val_loss: 0.1481 - val_accuracy: 0.9555\n",
      "Epoch 15/25\n",
      "1875/1875 [==============================] - 3s 2ms/step - loss: 0.1328 - accuracy: 0.9613 - val_loss: 0.1437 - val_accuracy: 0.9581\n",
      "Epoch 16/25\n",
      "1875/1875 [==============================] - 2s 1ms/step - loss: 0.1281 - accuracy: 0.9630 - val_loss: 0.1435 - val_accuracy: 0.9571\n",
      "Epoch 17/25\n",
      "1875/1875 [==============================] - 2s 945us/step - loss: 0.1231 - accuracy: 0.9645 - val_loss: 0.1356 - val_accuracy: 0.9590\n",
      "Epoch 18/25\n",
      "1875/1875 [==============================] - 2s 1ms/step - loss: 0.1194 - accuracy: 0.9653 - val_loss: 0.1338 - val_accuracy: 0.9592\n",
      "Epoch 19/25\n",
      "1875/1875 [==============================] - 2s 1ms/step - loss: 0.1150 - accuracy: 0.9665 - val_loss: 0.1306 - val_accuracy: 0.9606\n",
      "Epoch 20/25\n",
      "1875/1875 [==============================] - 3s 1ms/step - loss: 0.1113 - accuracy: 0.9677 - val_loss: 0.1296 - val_accuracy: 0.9603\n",
      "Epoch 21/25\n",
      "1875/1875 [==============================] - 3s 2ms/step - loss: 0.1079 - accuracy: 0.9685 - val_loss: 0.1252 - val_accuracy: 0.9607\n",
      "Epoch 22/25\n",
      "1875/1875 [==============================] - 3s 1ms/step - loss: 0.1046 - accuracy: 0.9696 - val_loss: 0.1218 - val_accuracy: 0.9634\n",
      "Epoch 23/25\n",
      "1875/1875 [==============================] - 2s 971us/step - loss: 0.1017 - accuracy: 0.9699 - val_loss: 0.1216 - val_accuracy: 0.9635\n",
      "Epoch 24/25\n",
      "1875/1875 [==============================] - 2s 938us/step - loss: 0.0985 - accuracy: 0.9712 - val_loss: 0.1197 - val_accuracy: 0.9630\n",
      "Epoch 25/25\n",
      "1875/1875 [==============================] - 2s 1ms/step - loss: 0.0960 - accuracy: 0.9717 - val_loss: 0.1222 - val_accuracy: 0.9641\n"
     ]
    }
   ],
   "source": [
    "default = create_model().fit(\n",
    "    X_train, y_train, epochs=25,\n",
    "    validation_data=(X_test, y_test)\n",
    ")"
   ]
  },
  {
   "cell_type": "markdown",
   "metadata": {
    "colab_type": "text",
    "id": "IQZ4SZdKNMRO"
   },
   "source": [
    "### High Learning Rate"
   ]
  },
  {
   "cell_type": "code",
   "execution_count": 28,
   "metadata": {
    "colab": {},
    "colab_type": "code",
    "id": "Ny72mU_dNWMR"
   },
   "outputs": [
    {
     "name": "stdout",
     "output_type": "stream",
     "text": [
      "Epoch 1/25\n",
      "1875/1875 [==============================] - 2s 950us/step - loss: 1.3883 - accuracy: 0.4623 - val_loss: 1.4242 - val_accuracy: 0.4073\n",
      "Epoch 2/25\n",
      "1875/1875 [==============================] - 2s 845us/step - loss: 1.7206 - accuracy: 0.3121 - val_loss: 1.8142 - val_accuracy: 0.2852\n",
      "Epoch 3/25\n",
      "1875/1875 [==============================] - 2s 945us/step - loss: 1.7662 - accuracy: 0.3062 - val_loss: 1.8882 - val_accuracy: 0.2403\n",
      "Epoch 4/25\n",
      "1875/1875 [==============================] - 2s 835us/step - loss: 1.9191 - accuracy: 0.2110 - val_loss: 1.6797 - val_accuracy: 0.2953\n",
      "Epoch 5/25\n",
      "1875/1875 [==============================] - 2s 955us/step - loss: 1.8180 - accuracy: 0.2559 - val_loss: 1.7818 - val_accuracy: 0.2726\n",
      "Epoch 6/25\n",
      "1875/1875 [==============================] - 2s 940us/step - loss: 1.8660 - accuracy: 0.2306 - val_loss: 1.7369 - val_accuracy: 0.2778\n",
      "Epoch 7/25\n",
      "1875/1875 [==============================] - 2s 895us/step - loss: 1.9082 - accuracy: 0.2196 - val_loss: 1.9266 - val_accuracy: 0.2120\n",
      "Epoch 8/25\n",
      "1875/1875 [==============================] - 2s 928us/step - loss: 1.9177 - accuracy: 0.2074 - val_loss: 2.1036 - val_accuracy: 0.1984\n",
      "Epoch 9/25\n",
      "1875/1875 [==============================] - 2s 854us/step - loss: 1.9250 - accuracy: 0.2004 - val_loss: 1.9279 - val_accuracy: 0.2073\n",
      "Epoch 10/25\n",
      "1875/1875 [==============================] - 2s 979us/step - loss: 1.8907 - accuracy: 0.2012 - val_loss: 1.8822 - val_accuracy: 0.1920\n",
      "Epoch 11/25\n",
      "1875/1875 [==============================] - 2s 912us/step - loss: 1.8799 - accuracy: 0.2022 - val_loss: 1.8525 - val_accuracy: 0.2103\n",
      "Epoch 12/25\n",
      "1875/1875 [==============================] - 2s 1ms/step - loss: 1.9010 - accuracy: 0.2002 - val_loss: 1.8877 - val_accuracy: 0.2100\n",
      "Epoch 13/25\n",
      "1875/1875 [==============================] - 2s 1ms/step - loss: 1.9039 - accuracy: 0.2025 - val_loss: 1.9218 - val_accuracy: 0.2060\n",
      "Epoch 14/25\n",
      "1875/1875 [==============================] - 2s 976us/step - loss: 1.9514 - accuracy: 0.2040 - val_loss: 1.9069 - val_accuracy: 0.2037\n",
      "Epoch 15/25\n",
      "1875/1875 [==============================] - 2s 1ms/step - loss: 1.8997 - accuracy: 0.2021 - val_loss: 1.8825 - val_accuracy: 0.2102\n",
      "Epoch 16/25\n",
      "1875/1875 [==============================] - 2s 922us/step - loss: 1.9033 - accuracy: 0.1998 - val_loss: 1.9041 - val_accuracy: 0.1911\n",
      "Epoch 17/25\n",
      "1875/1875 [==============================] - 2s 985us/step - loss: 1.8982 - accuracy: 0.2032 - val_loss: 1.8871 - val_accuracy: 0.1856\n",
      "Epoch 18/25\n",
      "1875/1875 [==============================] - 2s 1ms/step - loss: 1.9146 - accuracy: 0.1991 - val_loss: 1.9241 - val_accuracy: 0.1778\n",
      "Epoch 19/25\n",
      "1875/1875 [==============================] - 2s 943us/step - loss: 1.9192 - accuracy: 0.2019 - val_loss: 1.8865 - val_accuracy: 0.2092\n",
      "Epoch 20/25\n",
      "1875/1875 [==============================] - 2s 1ms/step - loss: 1.9106 - accuracy: 0.2024 - val_loss: 1.8705 - val_accuracy: 0.2110\n",
      "Epoch 21/25\n",
      "1875/1875 [==============================] - 2s 949us/step - loss: 1.8812 - accuracy: 0.2043 - val_loss: 1.8841 - val_accuracy: 0.2122\n",
      "Epoch 22/25\n",
      "1875/1875 [==============================] - 2s 888us/step - loss: 1.8838 - accuracy: 0.2013 - val_loss: 1.8686 - val_accuracy: 0.2117\n",
      "Epoch 23/25\n",
      "1875/1875 [==============================] - 2s 880us/step - loss: 1.8760 - accuracy: 0.2034 - val_loss: 1.8607 - val_accuracy: 0.2123\n",
      "Epoch 24/25\n",
      "1875/1875 [==============================] - 2s 840us/step - loss: 1.8744 - accuracy: 0.2045 - val_loss: 1.8672 - val_accuracy: 0.1893\n",
      "Epoch 25/25\n",
      "1875/1875 [==============================] - 2s 886us/step - loss: 1.8861 - accuracy: 0.2014 - val_loss: 1.9291 - val_accuracy: 0.2041\n"
     ]
    }
   ],
   "source": [
    "high = create_model(lr=.75).fit(\n",
    "    X_train, y_train, epochs=25,\n",
    "    validation_data=(X_test, y_test)\n",
    ")"
   ]
  },
  {
   "cell_type": "markdown",
   "metadata": {
    "colab_type": "text",
    "id": "kAqDmTVBNSMR"
   },
   "source": [
    "### Low Learning Rate"
   ]
  },
  {
   "cell_type": "code",
   "execution_count": 32,
   "metadata": {
    "colab": {},
    "colab_type": "code",
    "id": "Ech1ER64NXBn"
   },
   "outputs": [
    {
     "name": "stdout",
     "output_type": "stream",
     "text": [
      "Epoch 1/25\n",
      "1875/1875 [==============================] - 2s 1ms/step - loss: 2.2992 - accuracy: 0.1111 - val_loss: 2.2707 - val_accuracy: 0.1271\n",
      "Epoch 2/25\n",
      "1875/1875 [==============================] - 2s 993us/step - loss: 2.2502 - accuracy: 0.1437 - val_loss: 2.2241 - val_accuracy: 0.1716\n",
      "Epoch 3/25\n",
      "1875/1875 [==============================] - 2s 1ms/step - loss: 2.2048 - accuracy: 0.1945 - val_loss: 2.1779 - val_accuracy: 0.2302\n",
      "Epoch 4/25\n",
      "1875/1875 [==============================] - 2s 1ms/step - loss: 2.1571 - accuracy: 0.2548 - val_loss: 2.1273 - val_accuracy: 0.2884\n",
      "Epoch 5/25\n",
      "1875/1875 [==============================] - 2s 946us/step - loss: 2.1041 - accuracy: 0.3161 - val_loss: 2.0706 - val_accuracy: 0.3541\n",
      "Epoch 6/25\n",
      "1875/1875 [==============================] - 2s 936us/step - loss: 2.0455 - accuracy: 0.3774 - val_loss: 2.0085 - val_accuracy: 0.4118\n",
      "Epoch 7/25\n",
      "1875/1875 [==============================] - 2s 911us/step - loss: 1.9819 - accuracy: 0.4342 - val_loss: 1.9422 - val_accuracy: 0.4662\n",
      "Epoch 8/25\n",
      "1875/1875 [==============================] - 2s 942us/step - loss: 1.9143 - accuracy: 0.4838 - val_loss: 1.8724 - val_accuracy: 0.5049\n",
      "Epoch 9/25\n",
      "1875/1875 [==============================] - 2s 970us/step - loss: 1.8436 - accuracy: 0.5211 - val_loss: 1.7999 - val_accuracy: 0.5399\n",
      "Epoch 10/25\n",
      "1875/1875 [==============================] - 2s 950us/step - loss: 1.7702 - accuracy: 0.5527 - val_loss: 1.7252 - val_accuracy: 0.5693\n",
      "Epoch 11/25\n",
      "1875/1875 [==============================] - 2s 1ms/step - loss: 1.6948 - accuracy: 0.5804 - val_loss: 1.6483 - val_accuracy: 0.5979\n",
      "Epoch 12/25\n",
      "1875/1875 [==============================] - 2s 958us/step - loss: 1.6176 - accuracy: 0.6053 - val_loss: 1.5699 - val_accuracy: 0.6227\n",
      "Epoch 13/25\n",
      "1875/1875 [==============================] - 2s 838us/step - loss: 1.5397 - accuracy: 0.6299 - val_loss: 1.4916 - val_accuracy: 0.6456\n",
      "Epoch 14/25\n",
      "1875/1875 [==============================] - 2s 909us/step - loss: 1.4628 - accuracy: 0.6521 - val_loss: 1.4151 - val_accuracy: 0.6637\n",
      "Epoch 15/25\n",
      "1875/1875 [==============================] - 2s 956us/step - loss: 1.3884 - accuracy: 0.6698 - val_loss: 1.3415 - val_accuracy: 0.6818\n",
      "Epoch 16/25\n",
      "1875/1875 [==============================] - 2s 990us/step - loss: 1.3174 - accuracy: 0.6876 - val_loss: 1.2717 - val_accuracy: 0.6959\n",
      "Epoch 17/25\n",
      "1875/1875 [==============================] - 2s 862us/step - loss: 1.2505 - accuracy: 0.7020 - val_loss: 1.2064 - val_accuracy: 0.7104\n",
      "Epoch 18/25\n",
      "1875/1875 [==============================] - 2s 837us/step - loss: 1.1882 - accuracy: 0.7152 - val_loss: 1.1459 - val_accuracy: 0.7226\n",
      "Epoch 19/25\n",
      "1875/1875 [==============================] - 2s 847us/step - loss: 1.1307 - accuracy: 0.7279 - val_loss: 1.0901 - val_accuracy: 0.7371\n",
      "Epoch 20/25\n",
      "1875/1875 [==============================] - 2s 911us/step - loss: 1.0778 - accuracy: 0.7387 - val_loss: 1.0389 - val_accuracy: 0.7478\n",
      "Epoch 21/25\n",
      "1875/1875 [==============================] - 2s 926us/step - loss: 1.0295 - accuracy: 0.7493 - val_loss: 0.9922 - val_accuracy: 0.7563\n",
      "Epoch 22/25\n",
      "1875/1875 [==============================] - 2s 956us/step - loss: 0.9854 - accuracy: 0.7580 - val_loss: 0.9497 - val_accuracy: 0.7677\n",
      "Epoch 23/25\n",
      "1875/1875 [==============================] - 2s 970us/step - loss: 0.9453 - accuracy: 0.7667 - val_loss: 0.9110 - val_accuracy: 0.7763\n",
      "Epoch 24/25\n",
      "1875/1875 [==============================] - 2s 1ms/step - loss: 0.9087 - accuracy: 0.7746 - val_loss: 0.8756 - val_accuracy: 0.7846\n",
      "Epoch 25/25\n",
      "1875/1875 [==============================] - 2s 934us/step - loss: 0.8752 - accuracy: 0.7816 - val_loss: 0.8434 - val_accuracy: 0.7917\n"
     ]
    }
   ],
   "source": [
    "low = create_model(lr=.0001).fit(\n",
    "    X_train, y_train, epochs=25,\n",
    "    validation_data=(X_test, y_test)\n",
    ")"
   ]
  },
  {
   "cell_type": "code",
   "execution_count": 34,
   "metadata": {
    "colab": {},
    "colab_type": "code",
    "id": "Bn-BdFdMNph-"
   },
   "outputs": [
    {
     "data": {
      "text/html": [
       "<div>\n",
       "<style scoped>\n",
       "    .dataframe tbody tr th:only-of-type {\n",
       "        vertical-align: middle;\n",
       "    }\n",
       "\n",
       "    .dataframe tbody tr th {\n",
       "        vertical-align: top;\n",
       "    }\n",
       "\n",
       "    .dataframe thead th {\n",
       "        text-align: right;\n",
       "    }\n",
       "</style>\n",
       "<table border=\"1\" class=\"dataframe\">\n",
       "  <thead>\n",
       "    <tr style=\"text-align: right;\">\n",
       "      <th></th>\n",
       "      <th>loss</th>\n",
       "      <th>accuracy</th>\n",
       "      <th>val_loss</th>\n",
       "      <th>val_accuracy</th>\n",
       "      <th>epoch</th>\n",
       "      <th>Learning Rate</th>\n",
       "    </tr>\n",
       "  </thead>\n",
       "  <tbody>\n",
       "    <tr>\n",
       "      <th>0</th>\n",
       "      <td>0.806582</td>\n",
       "      <td>0.783600</td>\n",
       "      <td>0.365449</td>\n",
       "      <td>0.8954</td>\n",
       "      <td>0</td>\n",
       "      <td>.01_</td>\n",
       "    </tr>\n",
       "    <tr>\n",
       "      <th>1</th>\n",
       "      <td>0.339517</td>\n",
       "      <td>0.902183</td>\n",
       "      <td>0.300966</td>\n",
       "      <td>0.9146</td>\n",
       "      <td>1</td>\n",
       "      <td>.01_</td>\n",
       "    </tr>\n",
       "    <tr>\n",
       "      <th>2</th>\n",
       "      <td>0.290737</td>\n",
       "      <td>0.916133</td>\n",
       "      <td>0.268057</td>\n",
       "      <td>0.9216</td>\n",
       "      <td>2</td>\n",
       "      <td>.01_</td>\n",
       "    </tr>\n",
       "    <tr>\n",
       "      <th>3</th>\n",
       "      <td>0.259032</td>\n",
       "      <td>0.926317</td>\n",
       "      <td>0.241619</td>\n",
       "      <td>0.9281</td>\n",
       "      <td>3</td>\n",
       "      <td>.01_</td>\n",
       "    </tr>\n",
       "    <tr>\n",
       "      <th>4</th>\n",
       "      <td>0.234964</td>\n",
       "      <td>0.932717</td>\n",
       "      <td>0.228655</td>\n",
       "      <td>0.9318</td>\n",
       "      <td>4</td>\n",
       "      <td>.01_</td>\n",
       "    </tr>\n",
       "  </tbody>\n",
       "</table>\n",
       "</div>"
      ],
      "text/plain": [
       "       loss  accuracy  val_loss  val_accuracy  epoch Learning Rate\n",
       "0  0.806582  0.783600  0.365449        0.8954      0          .01_\n",
       "1  0.339517  0.902183  0.300966        0.9146      1          .01_\n",
       "2  0.290737  0.916133  0.268057        0.9216      2          .01_\n",
       "3  0.259032  0.926317  0.241619        0.9281      3          .01_\n",
       "4  0.234964  0.932717  0.228655        0.9318      4          .01_"
      ]
     },
     "execution_count": 34,
     "metadata": {},
     "output_type": "execute_result"
    }
   ],
   "source": [
    "import seaborn as sns\n",
    "import pandas as pd\n",
    "\n",
    "batch_sizes = []\n",
    "\n",
    "for exp, result in zip([default, low, high], [\".01_\", \".0001_\", \".75_\"]):\n",
    "\n",
    "  df = pd.DataFrame.from_dict(exp.history)\n",
    "  df['epoch'] = df.index.values\n",
    "  df['Learning Rate'] = result\n",
    "\n",
    "  batch_sizes.append(df)\n",
    "\n",
    "df = pd.concat(batch_sizes)\n",
    "df['Learning Rate'] = df['Learning Rate'].astype('str')\n",
    "df.head()"
   ]
  },
  {
   "cell_type": "code",
   "execution_count": 35,
   "metadata": {},
   "outputs": [
    {
     "data": {
      "image/png": "[encoded data removed]",
      "text/plain": [
       "<Figure size 432x288 with 1 Axes>"
      ]
     },
     "metadata": {
      "needs_background": "light"
     },
     "output_type": "display_data"
    }
   ],
   "source": [
    "sns.lineplot(x='epoch', y='val_accuracy', hue='Learning Rate', data=df);"
   ]
  },
  {
   "cell_type": "code",
   "execution_count": 36,
   "metadata": {},
   "outputs": [
    {
     "data": {
      "image/png": "[encoded data removed]",
      "text/plain": [
       "<Figure size 432x288 with 1 Axes>"
      ]
     },
     "metadata": {
      "needs_background": "light"
     },
     "output_type": "display_data"
    }
   ],
   "source": [
    "sns.lineplot(x='epoch', y='val_loss', hue='Learning Rate', data=df);\n"
   ]
  },
  {
   "cell_type": "markdown",
   "metadata": {
    "colab_type": "text",
    "id": "Kb2aiw_Sgcl7"
   },
   "source": [
    "## Challenge\n",
    "\n",
    "You will be expected to experiment with different learning rates today.\n",
    "\n",
    "---"
   ]
  }
 ],
 "metadata": {
  "colab": {
   "collapsed_sections": [],
   "name": "LS_DS17_422_Train.ipynb",
   "provenance": []
  },
  "kernelspec": {
   "display_name": "U4-S1_NLP",
   "language": "python",
   "name": "u4-s1_nlp"
  },
  "language_info": {
   "codemirror_mode": {
    "name": "ipython",
    "version": 3
   },
   "file_extension": ".py",
   "mimetype": "text/x-python",
   "name": "python",
   "nbconvert_exporter": "python",
   "pygments_lexer": "ipython3",
   "version": "3.7.0"
  }
 },
 "nbformat": 4,
 "nbformat_minor": 4
}
